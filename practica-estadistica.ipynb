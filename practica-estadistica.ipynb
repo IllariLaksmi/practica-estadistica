{
 "cells": [
  {
   "cell_type": "code",
   "execution_count": 25,
   "metadata": {},
   "outputs": [],
   "source": [
    "library(ggplot2)\n",
    "options(repr.plot.height=4,repr.plot.width=6)"
   ]
  },
  {
   "cell_type": "markdown",
   "metadata": {},
   "source": [
    "Cargar los datos en un dataframe llamado: airbnb"
   ]
  },
  {
   "cell_type": "code",
   "execution_count": 26,
   "metadata": {},
   "outputs": [],
   "source": [
    "airbnb<-read.csv('data//airbnb.csv',sep = ',', stringsAsFactors = T)"
   ]
  },
  {
   "cell_type": "markdown",
   "metadata": {},
   "source": [
    "Mostrar las primeras 6 filas del dataframe"
   ]
  },
  {
   "cell_type": "code",
   "execution_count": 27,
   "metadata": {
    "scrolled": true
   },
   "outputs": [
    {
     "data": {
      "text/html": [
       "<table>\n",
       "<thead><tr><th scope=col>Zipcode</th><th scope=col>Neighbourhood.Cleansed</th><th scope=col>Property.Type</th><th scope=col>Room.Type</th><th scope=col>Accommodates</th><th scope=col>Bathrooms</th><th scope=col>Bedrooms</th><th scope=col>Beds</th><th scope=col>Bed.Type</th><th scope=col>Amenities</th><th scope=col>Square.Feet</th><th scope=col>Price</th><th scope=col>Review.Scores.Rating</th></tr></thead>\n",
       "<tbody>\n",
       "\t<tr><td>28004                                                                                                                                                                                                                                                                                                                                                           </td><td>Universidad                                                                                                                                                                                                                                                                                                                                                     </td><td>Apartment                                                                                                                                                                                                                                                                                                                                                       </td><td>Private room                                                                                                                                                                                                                                                                                                                                                    </td><td>2                                                                                                                                                                                                                                                                                                                                                               </td><td>2                                                                                                                                                                                                                                                                                                                                                               </td><td>1                                                                                                                                                                                                                                                                                                                                                               </td><td>1                                                                                                                                                                                                                                                                                                                                                               </td><td>Real Bed                                                                                                                                                                                                                                                                                                                                                        </td><td>TV,Wireless Internet,Kitchen,Pets allowed,Pets live on this property,Buzzer/wireless intercom,Heating,Suitable for events,Washer,First aid kit,Essentials,Lock on bedroom door,Iron                                                                                                                                                                             </td><td> NA                                                                                                                                                                                                                                                                                                                                                             </td><td>35                                                                                                                                                                                                                                                                                                                                                              </td><td> NA                                                                                                                                                                                                                                                                                                                                                             </td></tr>\n",
       "\t<tr><td>28004                                                                                                                                                                                                                                                                                                                                                           </td><td>Universidad                                                                                                                                                                                                                                                                                                                                                     </td><td>Apartment                                                                                                                                                                                                                                                                                                                                                       </td><td>Entire home/apt                                                                                                                                                                                                                                                                                                                                                 </td><td>6                                                                                                                                                                                                                                                                                                                                                               </td><td>1                                                                                                                                                                                                                                                                                                                                                               </td><td>3                                                                                                                                                                                                                                                                                                                                                               </td><td>5                                                                                                                                                                                                                                                                                                                                                               </td><td>Real Bed                                                                                                                                                                                                                                                                                                                                                        </td><td>TV,Internet,Wireless Internet,Air conditioning,Kitchen,Indoor fireplace,Heating,Family/kid friendly,Washer,Dryer,Smoke detector,Carbon monoxide detector,Essentials,Shampoo                                                                                                                                                                                     </td><td> NA                                                                                                                                                                                                                                                                                                                                                             </td><td>92                                                                                                                                                                                                                                                                                                                                                              </td><td> 96                                                                                                                                                                                                                                                                                                                                                             </td></tr>\n",
       "\t<tr><td>28004                                                                                                                                                                                                                                                                                                                                                           </td><td>Universidad                                                                                                                                                                                                                                                                                                                                                     </td><td>Apartment                                                                                                                                                                                                                                                                                                                                                       </td><td>Entire home/apt                                                                                                                                                                                                                                                                                                                                                 </td><td>3                                                                                                                                                                                                                                                                                                                                                               </td><td>1                                                                                                                                                                                                                                                                                                                                                               </td><td>2                                                                                                                                                                                                                                                                                                                                                               </td><td>2                                                                                                                                                                                                                                                                                                                                                               </td><td>Real Bed                                                                                                                                                                                                                                                                                                                                                        </td><td>TV,Internet,Wireless Internet,Air conditioning,Kitchen,Doorman,Heating,Family/kid friendly,Washer,Essentials,Shampoo,Hangers,Hair dryer,Iron,Laptop friendly workspace                                                                                                                                                                                          </td><td> NA                                                                                                                                                                                                                                                                                                                                                             </td><td>55                                                                                                                                                                                                                                                                                                                                                              </td><td> 91                                                                                                                                                                                                                                                                                                                                                             </td></tr>\n",
       "\t<tr><td>28004                                                                                                                                                                                                                                                                                                                                                           </td><td>Universidad                                                                                                                                                                                                                                                                                                                                                     </td><td>Loft                                                                                                                                                                                                                                                                                                                                                            </td><td>Entire home/apt                                                                                                                                                                                                                                                                                                                                                 </td><td>3                                                                                                                                                                                                                                                                                                                                                               </td><td>2                                                                                                                                                                                                                                                                                                                                                               </td><td>1                                                                                                                                                                                                                                                                                                                                                               </td><td>1                                                                                                                                                                                                                                                                                                                                                               </td><td>Real Bed                                                                                                                                                                                                                                                                                                                                                        </td><td>TV,Internet,Wireless Internet,Air conditioning,Kitchen,Pets allowed,Breakfast,Elevator in building,Indoor fireplace,Buzzer/wireless intercom,Heating,Washer,Essentials,Shampoo,Hangers,Hair dryer,Iron,Laptop friendly workspace,translation missing: en.hosting_amenity_49,translation missing: en.hosting_amenity_50                                          </td><td> NA                                                                                                                                                                                                                                                                                                                                                             </td><td>60                                                                                                                                                                                                                                                                                                                                                              </td><td>100                                                                                                                                                                                                                                                                                                                                                             </td></tr>\n",
       "\t<tr><td>28015                                                                                                                                                                                                                                                                                                                                                           </td><td>Universidad                                                                                                                                                                                                                                                                                                                                                     </td><td>Apartment                                                                                                                                                                                                                                                                                                                                                       </td><td>Entire home/apt                                                                                                                                                                                                                                                                                                                                                 </td><td>5                                                                                                                                                                                                                                                                                                                                                               </td><td>1                                                                                                                                                                                                                                                                                                                                                               </td><td>1                                                                                                                                                                                                                                                                                                                                                               </td><td>1                                                                                                                                                                                                                                                                                                                                                               </td><td>Real Bed                                                                                                                                                                                                                                                                                                                                                        </td><td>TV,Wireless Internet,Air conditioning,Kitchen,Smoking allowed,Pets allowed,Elevator in building,Heating,Family/kid friendly,Washer,Essentials,Iron                                                                                                                                                                                                              </td><td>538                                                                                                                                                                                                                                                                                                                                                             </td><td>75                                                                                                                                                                                                                                                                                                                                                              </td><td> 90                                                                                                                                                                                                                                                                                                                                                             </td></tr>\n",
       "\t<tr><td>28004                                                                                                                                                                                                                                                                                                                                                           </td><td>Universidad                                                                                                                                                                                                                                                                                                                                                     </td><td>Apartment                                                                                                                                                                                                                                                                                                                                                       </td><td>Entire home/apt                                                                                                                                                                                                                                                                                                                                                 </td><td>2                                                                                                                                                                                                                                                                                                                                                               </td><td>1                                                                                                                                                                                                                                                                                                                                                               </td><td>0                                                                                                                                                                                                                                                                                                                                                               </td><td>1                                                                                                                                                                                                                                                                                                                                                               </td><td>Real Bed                                                                                                                                                                                                                                                                                                                                                        </td><td>TV,Cable TV,Internet,Wireless Internet,Air conditioning,Wheelchair accessible,Kitchen,Doorman,Elevator in building,Buzzer/wireless intercom,Heating,Washer,Smoke detector,Carbon monoxide detector,First aid kit,Safety card,Fire extinguisher,Essentials,Shampoo,24-hour check-in,Hangers,Hair dryer,Iron,Laptop friendly workspace,Self Check-In,Doorman Entry</td><td> NA                                                                                                                                                                                                                                                                                                                                                             </td><td>55                                                                                                                                                                                                                                                                                                                                                              </td><td> 95                                                                                                                                                                                                                                                                                                                                                             </td></tr>\n",
       "</tbody>\n",
       "</table>\n"
      ],
      "text/latex": [
       "\\begin{tabular}{r|lllllllllllll}\n",
       " Zipcode & Neighbourhood.Cleansed & Property.Type & Room.Type & Accommodates & Bathrooms & Bedrooms & Beds & Bed.Type & Amenities & Square.Feet & Price & Review.Scores.Rating\\\\\n",
       "\\hline\n",
       "\t 28004                                                                                                                                                                                                                                                                                                                                                            & Universidad                                                                                                                                                                                                                                                                                                                                                      & Apartment                                                                                                                                                                                                                                                                                                                                                        & Private room                                                                                                                                                                                                                                                                                                                                                     & 2                                                                                                                                                                                                                                                                                                                                                                & 2                                                                                                                                                                                                                                                                                                                                                                & 1                                                                                                                                                                                                                                                                                                                                                                & 1                                                                                                                                                                                                                                                                                                                                                                & Real Bed                                                                                                                                                                                                                                                                                                                                                         & TV,Wireless Internet,Kitchen,Pets allowed,Pets live on this property,Buzzer/wireless intercom,Heating,Suitable for events,Washer,First aid kit,Essentials,Lock on bedroom door,Iron                                                                                                                                                                              &  NA                                                                                                                                                                                                                                                                                                                                                              & 35                                                                                                                                                                                                                                                                                                                                                               &  NA                                                                                                                                                                                                                                                                                                                                                             \\\\\n",
       "\t 28004                                                                                                                                                                                                                                                                                                                                                            & Universidad                                                                                                                                                                                                                                                                                                                                                      & Apartment                                                                                                                                                                                                                                                                                                                                                        & Entire home/apt                                                                                                                                                                                                                                                                                                                                                  & 6                                                                                                                                                                                                                                                                                                                                                                & 1                                                                                                                                                                                                                                                                                                                                                                & 3                                                                                                                                                                                                                                                                                                                                                                & 5                                                                                                                                                                                                                                                                                                                                                                & Real Bed                                                                                                                                                                                                                                                                                                                                                         & TV,Internet,Wireless Internet,Air conditioning,Kitchen,Indoor fireplace,Heating,Family/kid friendly,Washer,Dryer,Smoke detector,Carbon monoxide detector,Essentials,Shampoo                                                                                                                                                                                      &  NA                                                                                                                                                                                                                                                                                                                                                              & 92                                                                                                                                                                                                                                                                                                                                                               &  96                                                                                                                                                                                                                                                                                                                                                             \\\\\n",
       "\t 28004                                                                                                                                                                                                                                                                                                                                                            & Universidad                                                                                                                                                                                                                                                                                                                                                      & Apartment                                                                                                                                                                                                                                                                                                                                                        & Entire home/apt                                                                                                                                                                                                                                                                                                                                                  & 3                                                                                                                                                                                                                                                                                                                                                                & 1                                                                                                                                                                                                                                                                                                                                                                & 2                                                                                                                                                                                                                                                                                                                                                                & 2                                                                                                                                                                                                                                                                                                                                                                & Real Bed                                                                                                                                                                                                                                                                                                                                                         & TV,Internet,Wireless Internet,Air conditioning,Kitchen,Doorman,Heating,Family/kid friendly,Washer,Essentials,Shampoo,Hangers,Hair dryer,Iron,Laptop friendly workspace                                                                                                                                                                                           &  NA                                                                                                                                                                                                                                                                                                                                                              & 55                                                                                                                                                                                                                                                                                                                                                               &  91                                                                                                                                                                                                                                                                                                                                                             \\\\\n",
       "\t 28004                                                                                                                                                                                                                                                                                                                                                                    & Universidad                                                                                                                                                                                                                                                                                                                                                              & Loft                                                                                                                                                                                                                                                                                                                                                                     & Entire home/apt                                                                                                                                                                                                                                                                                                                                                          & 3                                                                                                                                                                                                                                                                                                                                                                        & 2                                                                                                                                                                                                                                                                                                                                                                        & 1                                                                                                                                                                                                                                                                                                                                                                        & 1                                                                                                                                                                                                                                                                                                                                                                        & Real Bed                                                                                                                                                                                                                                                                                                                                                                 & TV,Internet,Wireless Internet,Air conditioning,Kitchen,Pets allowed,Breakfast,Elevator in building,Indoor fireplace,Buzzer/wireless intercom,Heating,Washer,Essentials,Shampoo,Hangers,Hair dryer,Iron,Laptop friendly workspace,translation missing: en.hosting\\_amenity\\_49,translation missing: en.hosting\\_amenity\\_50                                           &  NA                                                                                                                                                                                                                                                                                                                                                                      & 60                                                                                                                                                                                                                                                                                                                                                                       & 100                                                                                                                                                                                                                                                                                                                                                                     \\\\\n",
       "\t 28015                                                                                                                                                                                                                                                                                                                                                            & Universidad                                                                                                                                                                                                                                                                                                                                                      & Apartment                                                                                                                                                                                                                                                                                                                                                        & Entire home/apt                                                                                                                                                                                                                                                                                                                                                  & 5                                                                                                                                                                                                                                                                                                                                                                & 1                                                                                                                                                                                                                                                                                                                                                                & 1                                                                                                                                                                                                                                                                                                                                                                & 1                                                                                                                                                                                                                                                                                                                                                                & Real Bed                                                                                                                                                                                                                                                                                                                                                         & TV,Wireless Internet,Air conditioning,Kitchen,Smoking allowed,Pets allowed,Elevator in building,Heating,Family/kid friendly,Washer,Essentials,Iron                                                                                                                                                                                                               & 538                                                                                                                                                                                                                                                                                                                                                              & 75                                                                                                                                                                                                                                                                                                                                                               &  90                                                                                                                                                                                                                                                                                                                                                             \\\\\n",
       "\t 28004                                                                                                                                                                                                                                                                                                                                                            & Universidad                                                                                                                                                                                                                                                                                                                                                      & Apartment                                                                                                                                                                                                                                                                                                                                                        & Entire home/apt                                                                                                                                                                                                                                                                                                                                                  & 2                                                                                                                                                                                                                                                                                                                                                                & 1                                                                                                                                                                                                                                                                                                                                                                & 0                                                                                                                                                                                                                                                                                                                                                                & 1                                                                                                                                                                                                                                                                                                                                                                & Real Bed                                                                                                                                                                                                                                                                                                                                                         & TV,Cable TV,Internet,Wireless Internet,Air conditioning,Wheelchair accessible,Kitchen,Doorman,Elevator in building,Buzzer/wireless intercom,Heating,Washer,Smoke detector,Carbon monoxide detector,First aid kit,Safety card,Fire extinguisher,Essentials,Shampoo,24-hour check-in,Hangers,Hair dryer,Iron,Laptop friendly workspace,Self Check-In,Doorman Entry &  NA                                                                                                                                                                                                                                                                                                                                                              & 55                                                                                                                                                                                                                                                                                                                                                               &  95                                                                                                                                                                                                                                                                                                                                                             \\\\\n",
       "\\end{tabular}\n"
      ],
      "text/markdown": [
       "\n",
       "| Zipcode | Neighbourhood.Cleansed | Property.Type | Room.Type | Accommodates | Bathrooms | Bedrooms | Beds | Bed.Type | Amenities | Square.Feet | Price | Review.Scores.Rating |\n",
       "|---|---|---|---|---|---|---|---|---|---|---|---|---|\n",
       "| 28004                                                                                                                                                                                                                                                                                                                                                            | Universidad                                                                                                                                                                                                                                                                                                                                                      | Apartment                                                                                                                                                                                                                                                                                                                                                        | Private room                                                                                                                                                                                                                                                                                                                                                     | 2                                                                                                                                                                                                                                                                                                                                                                | 2                                                                                                                                                                                                                                                                                                                                                                | 1                                                                                                                                                                                                                                                                                                                                                                | 1                                                                                                                                                                                                                                                                                                                                                                | Real Bed                                                                                                                                                                                                                                                                                                                                                         | TV,Wireless Internet,Kitchen,Pets allowed,Pets live on this property,Buzzer/wireless intercom,Heating,Suitable for events,Washer,First aid kit,Essentials,Lock on bedroom door,Iron                                                                                                                                                                              |  NA                                                                                                                                                                                                                                                                                                                                                              | 35                                                                                                                                                                                                                                                                                                                                                               |  NA                                                                                                                                                                                                                                                                                                                                                              |\n",
       "| 28004                                                                                                                                                                                                                                                                                                                                                            | Universidad                                                                                                                                                                                                                                                                                                                                                      | Apartment                                                                                                                                                                                                                                                                                                                                                        | Entire home/apt                                                                                                                                                                                                                                                                                                                                                  | 6                                                                                                                                                                                                                                                                                                                                                                | 1                                                                                                                                                                                                                                                                                                                                                                | 3                                                                                                                                                                                                                                                                                                                                                                | 5                                                                                                                                                                                                                                                                                                                                                                | Real Bed                                                                                                                                                                                                                                                                                                                                                         | TV,Internet,Wireless Internet,Air conditioning,Kitchen,Indoor fireplace,Heating,Family/kid friendly,Washer,Dryer,Smoke detector,Carbon monoxide detector,Essentials,Shampoo                                                                                                                                                                                      |  NA                                                                                                                                                                                                                                                                                                                                                              | 92                                                                                                                                                                                                                                                                                                                                                               |  96                                                                                                                                                                                                                                                                                                                                                              |\n",
       "| 28004                                                                                                                                                                                                                                                                                                                                                            | Universidad                                                                                                                                                                                                                                                                                                                                                      | Apartment                                                                                                                                                                                                                                                                                                                                                        | Entire home/apt                                                                                                                                                                                                                                                                                                                                                  | 3                                                                                                                                                                                                                                                                                                                                                                | 1                                                                                                                                                                                                                                                                                                                                                                | 2                                                                                                                                                                                                                                                                                                                                                                | 2                                                                                                                                                                                                                                                                                                                                                                | Real Bed                                                                                                                                                                                                                                                                                                                                                         | TV,Internet,Wireless Internet,Air conditioning,Kitchen,Doorman,Heating,Family/kid friendly,Washer,Essentials,Shampoo,Hangers,Hair dryer,Iron,Laptop friendly workspace                                                                                                                                                                                           |  NA                                                                                                                                                                                                                                                                                                                                                              | 55                                                                                                                                                                                                                                                                                                                                                               |  91                                                                                                                                                                                                                                                                                                                                                              |\n",
       "| 28004                                                                                                                                                                                                                                                                                                                                                            | Universidad                                                                                                                                                                                                                                                                                                                                                      | Loft                                                                                                                                                                                                                                                                                                                                                             | Entire home/apt                                                                                                                                                                                                                                                                                                                                                  | 3                                                                                                                                                                                                                                                                                                                                                                | 2                                                                                                                                                                                                                                                                                                                                                                | 1                                                                                                                                                                                                                                                                                                                                                                | 1                                                                                                                                                                                                                                                                                                                                                                | Real Bed                                                                                                                                                                                                                                                                                                                                                         | TV,Internet,Wireless Internet,Air conditioning,Kitchen,Pets allowed,Breakfast,Elevator in building,Indoor fireplace,Buzzer/wireless intercom,Heating,Washer,Essentials,Shampoo,Hangers,Hair dryer,Iron,Laptop friendly workspace,translation missing: en.hosting_amenity_49,translation missing: en.hosting_amenity_50                                           |  NA                                                                                                                                                                                                                                                                                                                                                              | 60                                                                                                                                                                                                                                                                                                                                                               | 100                                                                                                                                                                                                                                                                                                                                                              |\n",
       "| 28015                                                                                                                                                                                                                                                                                                                                                            | Universidad                                                                                                                                                                                                                                                                                                                                                      | Apartment                                                                                                                                                                                                                                                                                                                                                        | Entire home/apt                                                                                                                                                                                                                                                                                                                                                  | 5                                                                                                                                                                                                                                                                                                                                                                | 1                                                                                                                                                                                                                                                                                                                                                                | 1                                                                                                                                                                                                                                                                                                                                                                | 1                                                                                                                                                                                                                                                                                                                                                                | Real Bed                                                                                                                                                                                                                                                                                                                                                         | TV,Wireless Internet,Air conditioning,Kitchen,Smoking allowed,Pets allowed,Elevator in building,Heating,Family/kid friendly,Washer,Essentials,Iron                                                                                                                                                                                                               | 538                                                                                                                                                                                                                                                                                                                                                              | 75                                                                                                                                                                                                                                                                                                                                                               |  90                                                                                                                                                                                                                                                                                                                                                              |\n",
       "| 28004                                                                                                                                                                                                                                                                                                                                                            | Universidad                                                                                                                                                                                                                                                                                                                                                      | Apartment                                                                                                                                                                                                                                                                                                                                                        | Entire home/apt                                                                                                                                                                                                                                                                                                                                                  | 2                                                                                                                                                                                                                                                                                                                                                                | 1                                                                                                                                                                                                                                                                                                                                                                | 0                                                                                                                                                                                                                                                                                                                                                                | 1                                                                                                                                                                                                                                                                                                                                                                | Real Bed                                                                                                                                                                                                                                                                                                                                                         | TV,Cable TV,Internet,Wireless Internet,Air conditioning,Wheelchair accessible,Kitchen,Doorman,Elevator in building,Buzzer/wireless intercom,Heating,Washer,Smoke detector,Carbon monoxide detector,First aid kit,Safety card,Fire extinguisher,Essentials,Shampoo,24-hour check-in,Hangers,Hair dryer,Iron,Laptop friendly workspace,Self Check-In,Doorman Entry |  NA                                                                                                                                                                                                                                                                                                                                                              | 55                                                                                                                                                                                                                                                                                                                                                               |  95                                                                                                                                                                                                                                                                                                                                                              |\n",
       "\n"
      ],
      "text/plain": [
       "  Zipcode Neighbourhood.Cleansed Property.Type Room.Type       Accommodates\n",
       "1 28004   Universidad            Apartment     Private room    2           \n",
       "2 28004   Universidad            Apartment     Entire home/apt 6           \n",
       "3 28004   Universidad            Apartment     Entire home/apt 3           \n",
       "4 28004   Universidad            Loft          Entire home/apt 3           \n",
       "5 28015   Universidad            Apartment     Entire home/apt 5           \n",
       "6 28004   Universidad            Apartment     Entire home/apt 2           \n",
       "  Bathrooms Bedrooms Beds Bed.Type\n",
       "1 2         1        1    Real Bed\n",
       "2 1         3        5    Real Bed\n",
       "3 1         2        2    Real Bed\n",
       "4 2         1        1    Real Bed\n",
       "5 1         1        1    Real Bed\n",
       "6 1         0        1    Real Bed\n",
       "  Amenities                                                                                                                                                                                                                                                                                                                                                       \n",
       "1 TV,Wireless Internet,Kitchen,Pets allowed,Pets live on this property,Buzzer/wireless intercom,Heating,Suitable for events,Washer,First aid kit,Essentials,Lock on bedroom door,Iron                                                                                                                                                                             \n",
       "2 TV,Internet,Wireless Internet,Air conditioning,Kitchen,Indoor fireplace,Heating,Family/kid friendly,Washer,Dryer,Smoke detector,Carbon monoxide detector,Essentials,Shampoo                                                                                                                                                                                     \n",
       "3 TV,Internet,Wireless Internet,Air conditioning,Kitchen,Doorman,Heating,Family/kid friendly,Washer,Essentials,Shampoo,Hangers,Hair dryer,Iron,Laptop friendly workspace                                                                                                                                                                                          \n",
       "4 TV,Internet,Wireless Internet,Air conditioning,Kitchen,Pets allowed,Breakfast,Elevator in building,Indoor fireplace,Buzzer/wireless intercom,Heating,Washer,Essentials,Shampoo,Hangers,Hair dryer,Iron,Laptop friendly workspace,translation missing: en.hosting_amenity_49,translation missing: en.hosting_amenity_50                                          \n",
       "5 TV,Wireless Internet,Air conditioning,Kitchen,Smoking allowed,Pets allowed,Elevator in building,Heating,Family/kid friendly,Washer,Essentials,Iron                                                                                                                                                                                                              \n",
       "6 TV,Cable TV,Internet,Wireless Internet,Air conditioning,Wheelchair accessible,Kitchen,Doorman,Elevator in building,Buzzer/wireless intercom,Heating,Washer,Smoke detector,Carbon monoxide detector,First aid kit,Safety card,Fire extinguisher,Essentials,Shampoo,24-hour check-in,Hangers,Hair dryer,Iron,Laptop friendly workspace,Self Check-In,Doorman Entry\n",
       "  Square.Feet Price Review.Scores.Rating\n",
       "1  NA         35     NA                 \n",
       "2  NA         92     96                 \n",
       "3  NA         55     91                 \n",
       "4  NA         60    100                 \n",
       "5 538         75     90                 \n",
       "6  NA         55     95                 "
      ]
     },
     "metadata": {},
     "output_type": "display_data"
    }
   ],
   "source": [
    "head(airbnb, n = 6)"
   ]
  },
  {
   "cell_type": "markdown",
   "metadata": {},
   "source": [
    "Renombrar las columnas de la siguiente forma:\n",
    "\n",
    "| Nombre original | Nuevo nombre |\n",
    "| - | - |\n",
    "| Zipcode | CodigoPostal |\n",
    "| Neighbourhood.Cleansed | Barrio |\n",
    "| Property.Type\t| TipoPropiedad |\n",
    "| Room.Type | TipoAlquiler |\n",
    "| Accommodates | MaxOcupantes |\n",
    "| Bathrooms\t| NumBanyos |\n",
    "| Bedrooms\t| NumDormitorios |\n",
    "| Beds\t|  NumCamas |\n",
    "| Bed.Type\t| TipoCama |\n",
    "| Amenities | Comodidades |\n",
    "| Square.Feet | PiesCuadrados |\n",
    "| Price\t| Precio |\n",
    "| Review.Scores.Rating | Puntuacion |"
   ]
  },
  {
   "cell_type": "code",
   "execution_count": 28,
   "metadata": {},
   "outputs": [],
   "source": [
    "newcolnames<-c(\"CodigoPostal\",\"Barrio\",\"TipoPropiedad\",\"TipoAlquiler\",\"MaxOcupantes\",\"NumBanyos\",\n",
    "\"NumDormitorios\",\"NumCamas\",\"TipoCama\",\"Comodidades\",\"PiesCuadrados\",\"Precio\",\"Puntuacion\")\n",
    "colnames(airbnb)<-newcolnames"
   ]
  },
  {
   "cell_type": "markdown",
   "metadata": {},
   "source": [
    "Crea una nueva columna llamada MetrosCuadrados a partir de la columna PiesCuadrados.\n",
    "\n",
    "Ayuda: 1 pie cuadrado son 0,092903 metros cuadrdados"
   ]
  },
  {
   "cell_type": "code",
   "execution_count": 61,
   "metadata": {},
   "outputs": [],
   "source": [
    "airbnb$MetrosCuadrados <- airbnb['PiesCuadrados']*0.092903"
   ]
  },
  {
   "cell_type": "markdown",
   "metadata": {},
   "source": [
    "Miremos el código postal. Es una variable con entradas erroneas.\n",
    "Hay valores como '', '-'  y '28' que deberían ser considerados como NA.\n",
    "Así mismo también debería ser NA todos los que no compiencen por 28, ya que estamos con códigos postales de Madrid\n",
    "\n",
    "El código postal 28002, 28004 y 28051 tienen entradas repetidas. \n",
    "Por ejemplo las entradas 28002\\n20882 deberían ir dnetro de 28002\n",
    "\n",
    "El codigo 2804 debería ser 28004, 2805 deberia ser 28005 y 2015 juncto con 2815 debería ser 28015\n",
    "\n",
    "Limpia los datos de la columna Codigo Postal"
   ]
  },
  {
   "cell_type": "code",
   "execution_count": 62,
   "metadata": {},
   "outputs": [],
   "source": [
    "#Cambiando los valores [\" \", \"-\", \"28\"] como NA\n",
    "airbnb$CodigoPostal[airbnb$CodigoPostal=='' | airbnb$CodigoPostal=='-' | airbnb$CodigoPostal=='28'] <- NA\n",
    "#Cambiando lo que no comiencen por 28\n",
    "airbnb$CodigoPostal[!grepl(\"^28\",airbnb$CodigoPostal)] <- NA\n",
    "\n",
    "#Cambiando las entradas repetidas\n",
    "airbnb$CodigoPostal[airbnb$CodigoPostal=='28002\\n28002']<-'28002'\n",
    "airbnb$CodigoPostal[airbnb$CodigoPostal=='28051\\n28051'] <- '28051'\n",
    "airbnb$CodigoPostal[airbnb$CodigoPostal=='Madrid 28004']<-'28004'\n",
    "\n",
    "#Cambiando las entradas\n",
    "airbnb$CodigoPostal[airbnb$CodigoPostal=='2804']<-'28004'\n",
    "airbnb$CodigoPostal[airbnb$CodigoPostal=='2805']<-'28005'\n",
    "airbnb$CodigoPostal[airbnb$CodigoPostal=='2815']<-'28015'\n",
    "airbnb$CodigoPostal[airbnb$CodigoPostal=='2005']<-'28015'\n",
    "\n",
    "\n",
    "#Aplicando una expresión regular para limpiar los datos\n",
    "airbnb$CodigoPostal <- gsub('[^(28)]\\\\d{3}', NA, airbnb$CodigoPostal)\n",
    "airbnb$CodigoPostal<-factor(airbnb$CodigoPostal)"
   ]
  },
  {
   "cell_type": "markdown",
   "metadata": {},
   "source": [
    "Una vez limpios los datos ¿Cuales son los códigos postales que tenemos? "
   ]
  },
  {
   "cell_type": "code",
   "execution_count": 63,
   "metadata": {},
   "outputs": [
    {
     "data": {
      "text/html": [
       "'Tenemos 62 codigos postales'"
      ],
      "text/latex": [
       "'Tenemos 62 codigos postales'"
      ],
      "text/markdown": [
       "'Tenemos 62 codigos postales'"
      ],
      "text/plain": [
       "[1] \"Tenemos 62 codigos postales\""
      ]
     },
     "metadata": {},
     "output_type": "display_data"
    }
   ],
   "source": [
    "paste(\"Tenemos\",length(unique(airbnb$CodigoPostal)),\"codigos postales\")"
   ]
  },
  {
   "cell_type": "markdown",
   "metadata": {},
   "source": [
    "¿Cuales son los 5 códigos postales con más entradas? ¿Y con menos? ¿Cuantas entradas tienen?"
   ]
  },
  {
   "cell_type": "code",
   "execution_count": 114,
   "metadata": {},
   "outputs": [
    {
     "name": "stdout",
     "output_type": "stream",
     "text": [
      "[1] \"Los 5 códigos postales con más entradas son:\"\n",
      "  Códigos Postales Número de entradas\n",
      "1            28012               2060\n",
      "2            28004               1795\n",
      "3            28005               1195\n",
      "4            28013               1019\n",
      "5            28014                630\n",
      "[1] \"Los 5 códigos postales con menos entradas son:\"\n",
      "  Códigos Postales Número de entradas\n",
      "1            28048                  1\n",
      "2            28052                  1\n",
      "3            28056                  1\n",
      "4            28058                  1\n",
      "5            28060                  1\n"
     ]
    }
   ],
   "source": [
    "print(\"Los 5 códigos postales con más entradas son:\")\n",
    "moreZipcodes <- data.frame(head(sort(table(airbnb$CodigoPostal),decreasing = T),5))\n",
    "names(moreZipcodes) <- c(\"Códigos Postales\", \"Número de entradas\")\n",
    "print(moreZipcodes)\n",
    "print(\"Los 5 códigos postales con menos entradas son:\")\n",
    "lessZipcodes <- data.frame(head(sort(table(airbnb$CodigoPostal),decreasing = F),5))\n",
    "names(lessZipcodes) <- c(\"Códigos Postales\", \"Número de entradas\")\n",
    "print(lessZipcodes)"
   ]
  },
  {
   "cell_type": "markdown",
   "metadata": {},
   "source": [
    "¿Cuales son los barrios que hay en el código postal 28012?"
   ]
  },
  {
   "cell_type": "code",
   "execution_count": 115,
   "metadata": {},
   "outputs": [
    {
     "data": {
      "text/html": [
       "<ol class=list-inline>\n",
       "\t<li>Sol</li>\n",
       "\t<li>Acacias</li>\n",
       "\t<li>Palos de Moguer</li>\n",
       "\t<li>Embajadores</li>\n",
       "\t<li>Cortes</li>\n",
       "\t<li>Palacio</li>\n",
       "\t<li>Universidad</li>\n",
       "\t<li>Delicias</li>\n",
       "\t<li>Arapiles</li>\n",
       "\t<li>Atocha</li>\n",
       "\t<li>Goya</li>\n",
       "</ol>\n",
       "\n",
       "<details>\n",
       "\t<summary style=display:list-item;cursor:pointer>\n",
       "\t\t<strong>Levels</strong>:\n",
       "\t</summary>\n",
       "\t<ol class=list-inline>\n",
       "\t\t<li>'Abrantes'</li>\n",
       "\t\t<li>'Acacias'</li>\n",
       "\t\t<li>'Adelfas'</li>\n",
       "\t\t<li>'Aeropuerto'</li>\n",
       "\t\t<li>'Aguilas'</li>\n",
       "\t\t<li>'Alameda de Osuna'</li>\n",
       "\t\t<li>'Almagro'</li>\n",
       "\t\t<li>'Almenara'</li>\n",
       "\t\t<li>'Almendrales'</li>\n",
       "\t\t<li>'Aluche'</li>\n",
       "\t\t<li>'Ambroz'</li>\n",
       "\t\t<li>'Amposta'</li>\n",
       "\t\t<li>'Apostol Santiago'</li>\n",
       "\t\t<li>'Arapiles'</li>\n",
       "\t\t<li>'Aravaca'</li>\n",
       "\t\t<li>'Arcos'</li>\n",
       "\t\t<li>'ArgÃ¼elles'</li>\n",
       "\t\t<li>'Atocha'</li>\n",
       "\t\t<li>'Bellas Vistas'</li>\n",
       "\t\t<li>'Berruguete'</li>\n",
       "\t\t<li>'Buenavista'</li>\n",
       "\t\t<li>'Butarque'</li>\n",
       "\t\t<li>'CÃ¡rmenes'</li>\n",
       "\t\t<li>'Campamento'</li>\n",
       "\t\t<li>'Canillas'</li>\n",
       "\t\t<li>'Canillejas'</li>\n",
       "\t\t<li>'Casa de Campo'</li>\n",
       "\t\t<li>'Casco HistÃ³rico de Barajas'</li>\n",
       "\t\t<li>'Casco HistÃ³rico de Vallecas'</li>\n",
       "\t\t<li>'Casco HistÃ³rico de VicÃ¡lvaro'</li>\n",
       "\t\t<li>'Castellana'</li>\n",
       "\t\t<li>'Castilla'</li>\n",
       "\t\t<li>'Castillejos'</li>\n",
       "\t\t<li>'Chopera'</li>\n",
       "\t\t<li>'Ciudad JardÃ­n'</li>\n",
       "\t\t<li>'Ciudad Universitaria'</li>\n",
       "\t\t<li>'Colina'</li>\n",
       "\t\t<li>'Comillas'</li>\n",
       "\t\t<li>'ConcepciÃ³n'</li>\n",
       "\t\t<li>'Corralejos'</li>\n",
       "\t\t<li>'Cortes'</li>\n",
       "\t\t<li>'Costillares'</li>\n",
       "\t\t<li>'Cuatro Caminos'</li>\n",
       "\t\t<li>'Cuatro Vientos'</li>\n",
       "\t\t<li>'Delicias'</li>\n",
       "\t\t<li>'El Goloso'</li>\n",
       "\t\t<li>'El PlantÃ­o'</li>\n",
       "\t\t<li>'El Viso'</li>\n",
       "\t\t<li>'Embajadores'</li>\n",
       "\t\t<li>'EntrevÃ­as'</li>\n",
       "\t\t<li>'Estrella'</li>\n",
       "\t\t<li>'FontarrÃ³n'</li>\n",
       "\t\t<li>'Fuente del Berro'</li>\n",
       "\t\t<li>'Fuentelareina'</li>\n",
       "\t\t<li>'Gaztambide'</li>\n",
       "\t\t<li>'Goya'</li>\n",
       "\t\t<li>'Guindalera'</li>\n",
       "\t\t<li>'HellÃ­n'</li>\n",
       "\t\t<li>'HispanoamÃ©rica'</li>\n",
       "\t\t<li>'Ibiza'</li>\n",
       "\t\t<li>'Imperial'</li>\n",
       "\t\t<li>'JerÃ³nimos'</li>\n",
       "\t\t<li>'Justicia'</li>\n",
       "\t\t<li>'La Paz'</li>\n",
       "\t\t<li>'Legazpi'</li>\n",
       "\t\t<li>'Lista'</li>\n",
       "\t\t<li>'Los Angeles'</li>\n",
       "\t\t<li>'Los Rosales'</li>\n",
       "\t\t<li>'Lucero'</li>\n",
       "\t\t<li>'Marroquina'</li>\n",
       "\t\t<li>'Media Legua'</li>\n",
       "\t\t<li>'Mirasierra'</li>\n",
       "\t\t<li>'MoscardÃ³'</li>\n",
       "\t\t<li>'NiÃ±o JesÃºs'</li>\n",
       "\t\t<li>'Nueva EspaÃ±a'</li>\n",
       "\t\t<li>'Numancia'</li>\n",
       "\t\t<li>'OpaÃ±el'</li>\n",
       "\t\t<li>'Orcasitas'</li>\n",
       "\t\t<li>'Orcasur'</li>\n",
       "\t\t<li>'PacÃ­fico'</li>\n",
       "\t\t<li>'Palacio'</li>\n",
       "\t\t<li>'Palomas'</li>\n",
       "\t\t<li>'Palomeras Bajas'</li>\n",
       "\t\t<li>'Palomeras Sureste'</li>\n",
       "\t\t<li>'Palos de Moguer'</li>\n",
       "\t\t<li>'Pavones'</li>\n",
       "\t\t<li>'PeÃ±agrande'</li>\n",
       "\t\t<li>'Pilar'</li>\n",
       "\t\t<li>'Pinar del Rey'</li>\n",
       "\t\t<li>'Piovera'</li>\n",
       "\t\t<li>'Portazgo'</li>\n",
       "\t\t<li>'Pradolongo'</li>\n",
       "\t\t<li>'Prosperidad'</li>\n",
       "\t\t<li>'Pueblo Nuevo'</li>\n",
       "\t\t<li>'Puerta Bonita'</li>\n",
       "\t\t<li>'Puerta del Angel'</li>\n",
       "\t\t<li>'Quintana'</li>\n",
       "\t\t<li>'Recoletos'</li>\n",
       "\t\t<li>'Rejas'</li>\n",
       "\t\t<li>'Rios Rosas'</li>\n",
       "\t\t<li>'Rosas'</li>\n",
       "\t\t<li>'Salvador'</li>\n",
       "\t\t<li>'San AndrÃ©s'</li>\n",
       "\t\t<li>'San Cristobal'</li>\n",
       "\t\t<li>'San Diego'</li>\n",
       "\t\t<li>'San FermÃ­n'</li>\n",
       "\t\t<li>'San Isidro'</li>\n",
       "\t\t<li>'San Juan Bautista'</li>\n",
       "\t\t<li>'San Pascual'</li>\n",
       "\t\t<li>'Santa Eugenia'</li>\n",
       "\t\t<li>'Simancas'</li>\n",
       "\t\t<li>'Sol'</li>\n",
       "\t\t<li>'TimÃ³n'</li>\n",
       "\t\t<li>'Trafalgar'</li>\n",
       "\t\t<li>'Universidad'</li>\n",
       "\t\t<li>'Valdeacederas'</li>\n",
       "\t\t<li>'Valdefuentes'</li>\n",
       "\t\t<li>'ValdemarÃ­n'</li>\n",
       "\t\t<li>'Valdezarza'</li>\n",
       "\t\t<li>'Vallehermoso'</li>\n",
       "\t\t<li>'Valverde'</li>\n",
       "\t\t<li>'Ventas'</li>\n",
       "\t\t<li>'Vinateros'</li>\n",
       "\t\t<li>'Vista Alegre'</li>\n",
       "\t\t<li>'ZofÃ­o'</li>\n",
       "\t</ol>\n",
       "</details>"
      ],
      "text/latex": [
       "\\begin{enumerate*}\n",
       "\\item Sol\n",
       "\\item Acacias\n",
       "\\item Palos de Moguer\n",
       "\\item Embajadores\n",
       "\\item Cortes\n",
       "\\item Palacio\n",
       "\\item Universidad\n",
       "\\item Delicias\n",
       "\\item Arapiles\n",
       "\\item Atocha\n",
       "\\item Goya\n",
       "\\end{enumerate*}\n",
       "\n",
       "\\emph{Levels}: \\begin{enumerate*}\n",
       "\\item 'Abrantes'\n",
       "\\item 'Acacias'\n",
       "\\item 'Adelfas'\n",
       "\\item 'Aeropuerto'\n",
       "\\item 'Aguilas'\n",
       "\\item 'Alameda de Osuna'\n",
       "\\item 'Almagro'\n",
       "\\item 'Almenara'\n",
       "\\item 'Almendrales'\n",
       "\\item 'Aluche'\n",
       "\\item 'Ambroz'\n",
       "\\item 'Amposta'\n",
       "\\item 'Apostol Santiago'\n",
       "\\item 'Arapiles'\n",
       "\\item 'Aravaca'\n",
       "\\item 'Arcos'\n",
       "\\item 'ArgÃ¼elles'\n",
       "\\item 'Atocha'\n",
       "\\item 'Bellas Vistas'\n",
       "\\item 'Berruguete'\n",
       "\\item 'Buenavista'\n",
       "\\item 'Butarque'\n",
       "\\item 'CÃ¡rmenes'\n",
       "\\item 'Campamento'\n",
       "\\item 'Canillas'\n",
       "\\item 'Canillejas'\n",
       "\\item 'Casa de Campo'\n",
       "\\item 'Casco HistÃ³rico de Barajas'\n",
       "\\item 'Casco HistÃ³rico de Vallecas'\n",
       "\\item 'Casco HistÃ³rico de VicÃ¡lvaro'\n",
       "\\item 'Castellana'\n",
       "\\item 'Castilla'\n",
       "\\item 'Castillejos'\n",
       "\\item 'Chopera'\n",
       "\\item 'Ciudad JardÃ­n'\n",
       "\\item 'Ciudad Universitaria'\n",
       "\\item 'Colina'\n",
       "\\item 'Comillas'\n",
       "\\item 'ConcepciÃ³n'\n",
       "\\item 'Corralejos'\n",
       "\\item 'Cortes'\n",
       "\\item 'Costillares'\n",
       "\\item 'Cuatro Caminos'\n",
       "\\item 'Cuatro Vientos'\n",
       "\\item 'Delicias'\n",
       "\\item 'El Goloso'\n",
       "\\item 'El PlantÃ­o'\n",
       "\\item 'El Viso'\n",
       "\\item 'Embajadores'\n",
       "\\item 'EntrevÃ­as'\n",
       "\\item 'Estrella'\n",
       "\\item 'FontarrÃ³n'\n",
       "\\item 'Fuente del Berro'\n",
       "\\item 'Fuentelareina'\n",
       "\\item 'Gaztambide'\n",
       "\\item 'Goya'\n",
       "\\item 'Guindalera'\n",
       "\\item 'HellÃ­n'\n",
       "\\item 'HispanoamÃ©rica'\n",
       "\\item 'Ibiza'\n",
       "\\item 'Imperial'\n",
       "\\item 'JerÃ³nimos'\n",
       "\\item 'Justicia'\n",
       "\\item 'La Paz'\n",
       "\\item 'Legazpi'\n",
       "\\item 'Lista'\n",
       "\\item 'Los Angeles'\n",
       "\\item 'Los Rosales'\n",
       "\\item 'Lucero'\n",
       "\\item 'Marroquina'\n",
       "\\item 'Media Legua'\n",
       "\\item 'Mirasierra'\n",
       "\\item 'MoscardÃ³'\n",
       "\\item 'NiÃ±o JesÃºs'\n",
       "\\item 'Nueva EspaÃ±a'\n",
       "\\item 'Numancia'\n",
       "\\item 'OpaÃ±el'\n",
       "\\item 'Orcasitas'\n",
       "\\item 'Orcasur'\n",
       "\\item 'PacÃ­fico'\n",
       "\\item 'Palacio'\n",
       "\\item 'Palomas'\n",
       "\\item 'Palomeras Bajas'\n",
       "\\item 'Palomeras Sureste'\n",
       "\\item 'Palos de Moguer'\n",
       "\\item 'Pavones'\n",
       "\\item 'PeÃ±agrande'\n",
       "\\item 'Pilar'\n",
       "\\item 'Pinar del Rey'\n",
       "\\item 'Piovera'\n",
       "\\item 'Portazgo'\n",
       "\\item 'Pradolongo'\n",
       "\\item 'Prosperidad'\n",
       "\\item 'Pueblo Nuevo'\n",
       "\\item 'Puerta Bonita'\n",
       "\\item 'Puerta del Angel'\n",
       "\\item 'Quintana'\n",
       "\\item 'Recoletos'\n",
       "\\item 'Rejas'\n",
       "\\item 'Rios Rosas'\n",
       "\\item 'Rosas'\n",
       "\\item 'Salvador'\n",
       "\\item 'San AndrÃ©s'\n",
       "\\item 'San Cristobal'\n",
       "\\item 'San Diego'\n",
       "\\item 'San FermÃ­n'\n",
       "\\item 'San Isidro'\n",
       "\\item 'San Juan Bautista'\n",
       "\\item 'San Pascual'\n",
       "\\item 'Santa Eugenia'\n",
       "\\item 'Simancas'\n",
       "\\item 'Sol'\n",
       "\\item 'TimÃ³n'\n",
       "\\item 'Trafalgar'\n",
       "\\item 'Universidad'\n",
       "\\item 'Valdeacederas'\n",
       "\\item 'Valdefuentes'\n",
       "\\item 'ValdemarÃ­n'\n",
       "\\item 'Valdezarza'\n",
       "\\item 'Vallehermoso'\n",
       "\\item 'Valverde'\n",
       "\\item 'Ventas'\n",
       "\\item 'Vinateros'\n",
       "\\item 'Vista Alegre'\n",
       "\\item 'ZofÃ­o'\n",
       "\\end{enumerate*}\n"
      ],
      "text/markdown": [
       "1. Sol\n",
       "2. Acacias\n",
       "3. Palos de Moguer\n",
       "4. Embajadores\n",
       "5. Cortes\n",
       "6. Palacio\n",
       "7. Universidad\n",
       "8. Delicias\n",
       "9. Arapiles\n",
       "10. Atocha\n",
       "11. Goya\n",
       "\n",
       "\n",
       "\n",
       "**Levels**: 1. 'Abrantes'\n",
       "2. 'Acacias'\n",
       "3. 'Adelfas'\n",
       "4. 'Aeropuerto'\n",
       "5. 'Aguilas'\n",
       "6. 'Alameda de Osuna'\n",
       "7. 'Almagro'\n",
       "8. 'Almenara'\n",
       "9. 'Almendrales'\n",
       "10. 'Aluche'\n",
       "11. 'Ambroz'\n",
       "12. 'Amposta'\n",
       "13. 'Apostol Santiago'\n",
       "14. 'Arapiles'\n",
       "15. 'Aravaca'\n",
       "16. 'Arcos'\n",
       "17. 'ArgÃ¼elles'\n",
       "18. 'Atocha'\n",
       "19. 'Bellas Vistas'\n",
       "20. 'Berruguete'\n",
       "21. 'Buenavista'\n",
       "22. 'Butarque'\n",
       "23. 'CÃ¡rmenes'\n",
       "24. 'Campamento'\n",
       "25. 'Canillas'\n",
       "26. 'Canillejas'\n",
       "27. 'Casa de Campo'\n",
       "28. 'Casco HistÃ³rico de Barajas'\n",
       "29. 'Casco HistÃ³rico de Vallecas'\n",
       "30. 'Casco HistÃ³rico de VicÃ¡lvaro'\n",
       "31. 'Castellana'\n",
       "32. 'Castilla'\n",
       "33. 'Castillejos'\n",
       "34. 'Chopera'\n",
       "35. 'Ciudad JardÃ­n'\n",
       "36. 'Ciudad Universitaria'\n",
       "37. 'Colina'\n",
       "38. 'Comillas'\n",
       "39. 'ConcepciÃ³n'\n",
       "40. 'Corralejos'\n",
       "41. 'Cortes'\n",
       "42. 'Costillares'\n",
       "43. 'Cuatro Caminos'\n",
       "44. 'Cuatro Vientos'\n",
       "45. 'Delicias'\n",
       "46. 'El Goloso'\n",
       "47. 'El PlantÃ­o'\n",
       "48. 'El Viso'\n",
       "49. 'Embajadores'\n",
       "50. 'EntrevÃ­as'\n",
       "51. 'Estrella'\n",
       "52. 'FontarrÃ³n'\n",
       "53. 'Fuente del Berro'\n",
       "54. 'Fuentelareina'\n",
       "55. 'Gaztambide'\n",
       "56. 'Goya'\n",
       "57. 'Guindalera'\n",
       "58. 'HellÃ­n'\n",
       "59. 'HispanoamÃ©rica'\n",
       "60. 'Ibiza'\n",
       "61. 'Imperial'\n",
       "62. 'JerÃ³nimos'\n",
       "63. 'Justicia'\n",
       "64. 'La Paz'\n",
       "65. 'Legazpi'\n",
       "66. 'Lista'\n",
       "67. 'Los Angeles'\n",
       "68. 'Los Rosales'\n",
       "69. 'Lucero'\n",
       "70. 'Marroquina'\n",
       "71. 'Media Legua'\n",
       "72. 'Mirasierra'\n",
       "73. 'MoscardÃ³'\n",
       "74. 'NiÃ±o JesÃºs'\n",
       "75. 'Nueva EspaÃ±a'\n",
       "76. 'Numancia'\n",
       "77. 'OpaÃ±el'\n",
       "78. 'Orcasitas'\n",
       "79. 'Orcasur'\n",
       "80. 'PacÃ­fico'\n",
       "81. 'Palacio'\n",
       "82. 'Palomas'\n",
       "83. 'Palomeras Bajas'\n",
       "84. 'Palomeras Sureste'\n",
       "85. 'Palos de Moguer'\n",
       "86. 'Pavones'\n",
       "87. 'PeÃ±agrande'\n",
       "88. 'Pilar'\n",
       "89. 'Pinar del Rey'\n",
       "90. 'Piovera'\n",
       "91. 'Portazgo'\n",
       "92. 'Pradolongo'\n",
       "93. 'Prosperidad'\n",
       "94. 'Pueblo Nuevo'\n",
       "95. 'Puerta Bonita'\n",
       "96. 'Puerta del Angel'\n",
       "97. 'Quintana'\n",
       "98. 'Recoletos'\n",
       "99. 'Rejas'\n",
       "100. 'Rios Rosas'\n",
       "101. 'Rosas'\n",
       "102. 'Salvador'\n",
       "103. 'San AndrÃ©s'\n",
       "104. 'San Cristobal'\n",
       "105. 'San Diego'\n",
       "106. 'San FermÃ­n'\n",
       "107. 'San Isidro'\n",
       "108. 'San Juan Bautista'\n",
       "109. 'San Pascual'\n",
       "110. 'Santa Eugenia'\n",
       "111. 'Simancas'\n",
       "112. 'Sol'\n",
       "113. 'TimÃ³n'\n",
       "114. 'Trafalgar'\n",
       "115. 'Universidad'\n",
       "116. 'Valdeacederas'\n",
       "117. 'Valdefuentes'\n",
       "118. 'ValdemarÃ­n'\n",
       "119. 'Valdezarza'\n",
       "120. 'Vallehermoso'\n",
       "121. 'Valverde'\n",
       "122. 'Ventas'\n",
       "123. 'Vinateros'\n",
       "124. 'Vista Alegre'\n",
       "125. 'ZofÃ­o'\n",
       "\n",
       "\n"
      ],
      "text/plain": [
       " [1] Sol             Acacias         Palos de Moguer Embajadores    \n",
       " [5] Cortes          Palacio         Universidad     Delicias       \n",
       " [9] Arapiles        Atocha          Goya           \n",
       "125 Levels: Abrantes Acacias Adelfas Aeropuerto Aguilas ... ZofÃ­o"
      ]
     },
     "metadata": {},
     "output_type": "display_data"
    }
   ],
   "source": [
    "unique(airbnb[which(airbnb$CodigoPostal=='28012'),]$Barrio)"
   ]
  },
  {
   "cell_type": "markdown",
   "metadata": {},
   "source": [
    "¿Cuantas entradas hay en cada uno de esos barrios para el codigo postal 28012?"
   ]
  },
  {
   "cell_type": "code",
   "execution_count": 117,
   "metadata": {},
   "outputs": [
    {
     "data": {
      "text/plain": [
       "\n",
       "        Acacias        Arapiles          Atocha          Cortes        Delicias \n",
       "             13               1               1             216               1 \n",
       "    Embajadores            Goya         Palacio Palos de Moguer             Sol \n",
       "           1449               1              27              46             301 \n",
       "    Universidad \n",
       "              4 "
      ]
     },
     "metadata": {},
     "output_type": "display_data"
    }
   ],
   "source": [
    "zipCode_28012<-airbnb[which(airbnb$CodigoPostal=='28012'),]\n",
    "zipCode_28012$Barrio<-factor(zipCode_28012$Barrio)\n",
    "table(zipCode_28012$Barrio)"
   ]
  },
  {
   "cell_type": "markdown",
   "metadata": {},
   "source": [
    "¿Cuantos barrios hay en todo el dataset airbnb? ¿Cuales son?"
   ]
  },
  {
   "cell_type": "code",
   "execution_count": 123,
   "metadata": {},
   "outputs": [
    {
     "data": {
      "text/html": [
       "<span style=white-space:pre-wrap>'Número de barrios:  125'</span>"
      ],
      "text/latex": [
       "'Número de barrios:  125'"
      ],
      "text/markdown": [
       "<span style=white-space:pre-wrap>'Número de barrios:  125'</span>"
      ],
      "text/plain": [
       "[1] \"Número de barrios:  125\""
      ]
     },
     "metadata": {},
     "output_type": "display_data"
    },
    {
     "data": {
      "text/html": [
       "<ol class=list-inline>\n",
       "\t<li>'Abrantes'</li>\n",
       "\t<li>'Acacias'</li>\n",
       "\t<li>'Adelfas'</li>\n",
       "\t<li>'Aeropuerto'</li>\n",
       "\t<li>'Aguilas'</li>\n",
       "\t<li>'Alameda de Osuna'</li>\n",
       "\t<li>'Almagro'</li>\n",
       "\t<li>'Almenara'</li>\n",
       "\t<li>'Almendrales'</li>\n",
       "\t<li>'Aluche'</li>\n",
       "\t<li>'Ambroz'</li>\n",
       "\t<li>'Amposta'</li>\n",
       "\t<li>'Apostol Santiago'</li>\n",
       "\t<li>'Arapiles'</li>\n",
       "\t<li>'Aravaca'</li>\n",
       "\t<li>'Arcos'</li>\n",
       "\t<li>'ArgÃ¼elles'</li>\n",
       "\t<li>'Atocha'</li>\n",
       "\t<li>'Bellas Vistas'</li>\n",
       "\t<li>'Berruguete'</li>\n",
       "\t<li>'Buenavista'</li>\n",
       "\t<li>'Butarque'</li>\n",
       "\t<li>'CÃ¡rmenes'</li>\n",
       "\t<li>'Campamento'</li>\n",
       "\t<li>'Canillas'</li>\n",
       "\t<li>'Canillejas'</li>\n",
       "\t<li>'Casa de Campo'</li>\n",
       "\t<li>'Casco HistÃ³rico de Barajas'</li>\n",
       "\t<li>'Casco HistÃ³rico de Vallecas'</li>\n",
       "\t<li>'Casco HistÃ³rico de VicÃ¡lvaro'</li>\n",
       "\t<li>'Castellana'</li>\n",
       "\t<li>'Castilla'</li>\n",
       "\t<li>'Castillejos'</li>\n",
       "\t<li>'Chopera'</li>\n",
       "\t<li>'Ciudad JardÃ­n'</li>\n",
       "\t<li>'Ciudad Universitaria'</li>\n",
       "\t<li>'Colina'</li>\n",
       "\t<li>'Comillas'</li>\n",
       "\t<li>'ConcepciÃ³n'</li>\n",
       "\t<li>'Corralejos'</li>\n",
       "\t<li>'Cortes'</li>\n",
       "\t<li>'Costillares'</li>\n",
       "\t<li>'Cuatro Caminos'</li>\n",
       "\t<li>'Cuatro Vientos'</li>\n",
       "\t<li>'Delicias'</li>\n",
       "\t<li>'El Goloso'</li>\n",
       "\t<li>'El PlantÃ­o'</li>\n",
       "\t<li>'El Viso'</li>\n",
       "\t<li>'Embajadores'</li>\n",
       "\t<li>'EntrevÃ­as'</li>\n",
       "\t<li>'Estrella'</li>\n",
       "\t<li>'FontarrÃ³n'</li>\n",
       "\t<li>'Fuente del Berro'</li>\n",
       "\t<li>'Fuentelareina'</li>\n",
       "\t<li>'Gaztambide'</li>\n",
       "\t<li>'Goya'</li>\n",
       "\t<li>'Guindalera'</li>\n",
       "\t<li>'HellÃ­n'</li>\n",
       "\t<li>'HispanoamÃ©rica'</li>\n",
       "\t<li>'Ibiza'</li>\n",
       "\t<li>'Imperial'</li>\n",
       "\t<li>'JerÃ³nimos'</li>\n",
       "\t<li>'Justicia'</li>\n",
       "\t<li>'La Paz'</li>\n",
       "\t<li>'Legazpi'</li>\n",
       "\t<li>'Lista'</li>\n",
       "\t<li>'Los Angeles'</li>\n",
       "\t<li>'Los Rosales'</li>\n",
       "\t<li>'Lucero'</li>\n",
       "\t<li>'Marroquina'</li>\n",
       "\t<li>'Media Legua'</li>\n",
       "\t<li>'Mirasierra'</li>\n",
       "\t<li>'MoscardÃ³'</li>\n",
       "\t<li>'NiÃ±o JesÃºs'</li>\n",
       "\t<li>'Nueva EspaÃ±a'</li>\n",
       "\t<li>'Numancia'</li>\n",
       "\t<li>'OpaÃ±el'</li>\n",
       "\t<li>'Orcasitas'</li>\n",
       "\t<li>'Orcasur'</li>\n",
       "\t<li>'PacÃ­fico'</li>\n",
       "\t<li>'Palacio'</li>\n",
       "\t<li>'Palomas'</li>\n",
       "\t<li>'Palomeras Bajas'</li>\n",
       "\t<li>'Palomeras Sureste'</li>\n",
       "\t<li>'Palos de Moguer'</li>\n",
       "\t<li>'Pavones'</li>\n",
       "\t<li>'PeÃ±agrande'</li>\n",
       "\t<li>'Pilar'</li>\n",
       "\t<li>'Pinar del Rey'</li>\n",
       "\t<li>'Piovera'</li>\n",
       "\t<li>'Portazgo'</li>\n",
       "\t<li>'Pradolongo'</li>\n",
       "\t<li>'Prosperidad'</li>\n",
       "\t<li>'Pueblo Nuevo'</li>\n",
       "\t<li>'Puerta Bonita'</li>\n",
       "\t<li>'Puerta del Angel'</li>\n",
       "\t<li>'Quintana'</li>\n",
       "\t<li>'Recoletos'</li>\n",
       "\t<li>'Rejas'</li>\n",
       "\t<li>'Rios Rosas'</li>\n",
       "\t<li>'Rosas'</li>\n",
       "\t<li>'Salvador'</li>\n",
       "\t<li>'San AndrÃ©s'</li>\n",
       "\t<li>'San Cristobal'</li>\n",
       "\t<li>'San Diego'</li>\n",
       "\t<li>'San FermÃ­n'</li>\n",
       "\t<li>'San Isidro'</li>\n",
       "\t<li>'San Juan Bautista'</li>\n",
       "\t<li>'San Pascual'</li>\n",
       "\t<li>'Santa Eugenia'</li>\n",
       "\t<li>'Simancas'</li>\n",
       "\t<li>'Sol'</li>\n",
       "\t<li>'TimÃ³n'</li>\n",
       "\t<li>'Trafalgar'</li>\n",
       "\t<li>'Universidad'</li>\n",
       "\t<li>'Valdeacederas'</li>\n",
       "\t<li>'Valdefuentes'</li>\n",
       "\t<li>'ValdemarÃ­n'</li>\n",
       "\t<li>'Valdezarza'</li>\n",
       "\t<li>'Vallehermoso'</li>\n",
       "\t<li>'Valverde'</li>\n",
       "\t<li>'Ventas'</li>\n",
       "\t<li>'Vinateros'</li>\n",
       "\t<li>'Vista Alegre'</li>\n",
       "\t<li>'ZofÃ­o'</li>\n",
       "</ol>\n"
      ],
      "text/latex": [
       "\\begin{enumerate*}\n",
       "\\item 'Abrantes'\n",
       "\\item 'Acacias'\n",
       "\\item 'Adelfas'\n",
       "\\item 'Aeropuerto'\n",
       "\\item 'Aguilas'\n",
       "\\item 'Alameda de Osuna'\n",
       "\\item 'Almagro'\n",
       "\\item 'Almenara'\n",
       "\\item 'Almendrales'\n",
       "\\item 'Aluche'\n",
       "\\item 'Ambroz'\n",
       "\\item 'Amposta'\n",
       "\\item 'Apostol Santiago'\n",
       "\\item 'Arapiles'\n",
       "\\item 'Aravaca'\n",
       "\\item 'Arcos'\n",
       "\\item 'ArgÃ¼elles'\n",
       "\\item 'Atocha'\n",
       "\\item 'Bellas Vistas'\n",
       "\\item 'Berruguete'\n",
       "\\item 'Buenavista'\n",
       "\\item 'Butarque'\n",
       "\\item 'CÃ¡rmenes'\n",
       "\\item 'Campamento'\n",
       "\\item 'Canillas'\n",
       "\\item 'Canillejas'\n",
       "\\item 'Casa de Campo'\n",
       "\\item 'Casco HistÃ³rico de Barajas'\n",
       "\\item 'Casco HistÃ³rico de Vallecas'\n",
       "\\item 'Casco HistÃ³rico de VicÃ¡lvaro'\n",
       "\\item 'Castellana'\n",
       "\\item 'Castilla'\n",
       "\\item 'Castillejos'\n",
       "\\item 'Chopera'\n",
       "\\item 'Ciudad JardÃ­n'\n",
       "\\item 'Ciudad Universitaria'\n",
       "\\item 'Colina'\n",
       "\\item 'Comillas'\n",
       "\\item 'ConcepciÃ³n'\n",
       "\\item 'Corralejos'\n",
       "\\item 'Cortes'\n",
       "\\item 'Costillares'\n",
       "\\item 'Cuatro Caminos'\n",
       "\\item 'Cuatro Vientos'\n",
       "\\item 'Delicias'\n",
       "\\item 'El Goloso'\n",
       "\\item 'El PlantÃ­o'\n",
       "\\item 'El Viso'\n",
       "\\item 'Embajadores'\n",
       "\\item 'EntrevÃ­as'\n",
       "\\item 'Estrella'\n",
       "\\item 'FontarrÃ³n'\n",
       "\\item 'Fuente del Berro'\n",
       "\\item 'Fuentelareina'\n",
       "\\item 'Gaztambide'\n",
       "\\item 'Goya'\n",
       "\\item 'Guindalera'\n",
       "\\item 'HellÃ­n'\n",
       "\\item 'HispanoamÃ©rica'\n",
       "\\item 'Ibiza'\n",
       "\\item 'Imperial'\n",
       "\\item 'JerÃ³nimos'\n",
       "\\item 'Justicia'\n",
       "\\item 'La Paz'\n",
       "\\item 'Legazpi'\n",
       "\\item 'Lista'\n",
       "\\item 'Los Angeles'\n",
       "\\item 'Los Rosales'\n",
       "\\item 'Lucero'\n",
       "\\item 'Marroquina'\n",
       "\\item 'Media Legua'\n",
       "\\item 'Mirasierra'\n",
       "\\item 'MoscardÃ³'\n",
       "\\item 'NiÃ±o JesÃºs'\n",
       "\\item 'Nueva EspaÃ±a'\n",
       "\\item 'Numancia'\n",
       "\\item 'OpaÃ±el'\n",
       "\\item 'Orcasitas'\n",
       "\\item 'Orcasur'\n",
       "\\item 'PacÃ­fico'\n",
       "\\item 'Palacio'\n",
       "\\item 'Palomas'\n",
       "\\item 'Palomeras Bajas'\n",
       "\\item 'Palomeras Sureste'\n",
       "\\item 'Palos de Moguer'\n",
       "\\item 'Pavones'\n",
       "\\item 'PeÃ±agrande'\n",
       "\\item 'Pilar'\n",
       "\\item 'Pinar del Rey'\n",
       "\\item 'Piovera'\n",
       "\\item 'Portazgo'\n",
       "\\item 'Pradolongo'\n",
       "\\item 'Prosperidad'\n",
       "\\item 'Pueblo Nuevo'\n",
       "\\item 'Puerta Bonita'\n",
       "\\item 'Puerta del Angel'\n",
       "\\item 'Quintana'\n",
       "\\item 'Recoletos'\n",
       "\\item 'Rejas'\n",
       "\\item 'Rios Rosas'\n",
       "\\item 'Rosas'\n",
       "\\item 'Salvador'\n",
       "\\item 'San AndrÃ©s'\n",
       "\\item 'San Cristobal'\n",
       "\\item 'San Diego'\n",
       "\\item 'San FermÃ­n'\n",
       "\\item 'San Isidro'\n",
       "\\item 'San Juan Bautista'\n",
       "\\item 'San Pascual'\n",
       "\\item 'Santa Eugenia'\n",
       "\\item 'Simancas'\n",
       "\\item 'Sol'\n",
       "\\item 'TimÃ³n'\n",
       "\\item 'Trafalgar'\n",
       "\\item 'Universidad'\n",
       "\\item 'Valdeacederas'\n",
       "\\item 'Valdefuentes'\n",
       "\\item 'ValdemarÃ­n'\n",
       "\\item 'Valdezarza'\n",
       "\\item 'Vallehermoso'\n",
       "\\item 'Valverde'\n",
       "\\item 'Ventas'\n",
       "\\item 'Vinateros'\n",
       "\\item 'Vista Alegre'\n",
       "\\item 'ZofÃ­o'\n",
       "\\end{enumerate*}\n"
      ],
      "text/markdown": [
       "1. 'Abrantes'\n",
       "2. 'Acacias'\n",
       "3. 'Adelfas'\n",
       "4. 'Aeropuerto'\n",
       "5. 'Aguilas'\n",
       "6. 'Alameda de Osuna'\n",
       "7. 'Almagro'\n",
       "8. 'Almenara'\n",
       "9. 'Almendrales'\n",
       "10. 'Aluche'\n",
       "11. 'Ambroz'\n",
       "12. 'Amposta'\n",
       "13. 'Apostol Santiago'\n",
       "14. 'Arapiles'\n",
       "15. 'Aravaca'\n",
       "16. 'Arcos'\n",
       "17. 'ArgÃ¼elles'\n",
       "18. 'Atocha'\n",
       "19. 'Bellas Vistas'\n",
       "20. 'Berruguete'\n",
       "21. 'Buenavista'\n",
       "22. 'Butarque'\n",
       "23. 'CÃ¡rmenes'\n",
       "24. 'Campamento'\n",
       "25. 'Canillas'\n",
       "26. 'Canillejas'\n",
       "27. 'Casa de Campo'\n",
       "28. 'Casco HistÃ³rico de Barajas'\n",
       "29. 'Casco HistÃ³rico de Vallecas'\n",
       "30. 'Casco HistÃ³rico de VicÃ¡lvaro'\n",
       "31. 'Castellana'\n",
       "32. 'Castilla'\n",
       "33. 'Castillejos'\n",
       "34. 'Chopera'\n",
       "35. 'Ciudad JardÃ­n'\n",
       "36. 'Ciudad Universitaria'\n",
       "37. 'Colina'\n",
       "38. 'Comillas'\n",
       "39. 'ConcepciÃ³n'\n",
       "40. 'Corralejos'\n",
       "41. 'Cortes'\n",
       "42. 'Costillares'\n",
       "43. 'Cuatro Caminos'\n",
       "44. 'Cuatro Vientos'\n",
       "45. 'Delicias'\n",
       "46. 'El Goloso'\n",
       "47. 'El PlantÃ­o'\n",
       "48. 'El Viso'\n",
       "49. 'Embajadores'\n",
       "50. 'EntrevÃ­as'\n",
       "51. 'Estrella'\n",
       "52. 'FontarrÃ³n'\n",
       "53. 'Fuente del Berro'\n",
       "54. 'Fuentelareina'\n",
       "55. 'Gaztambide'\n",
       "56. 'Goya'\n",
       "57. 'Guindalera'\n",
       "58. 'HellÃ­n'\n",
       "59. 'HispanoamÃ©rica'\n",
       "60. 'Ibiza'\n",
       "61. 'Imperial'\n",
       "62. 'JerÃ³nimos'\n",
       "63. 'Justicia'\n",
       "64. 'La Paz'\n",
       "65. 'Legazpi'\n",
       "66. 'Lista'\n",
       "67. 'Los Angeles'\n",
       "68. 'Los Rosales'\n",
       "69. 'Lucero'\n",
       "70. 'Marroquina'\n",
       "71. 'Media Legua'\n",
       "72. 'Mirasierra'\n",
       "73. 'MoscardÃ³'\n",
       "74. 'NiÃ±o JesÃºs'\n",
       "75. 'Nueva EspaÃ±a'\n",
       "76. 'Numancia'\n",
       "77. 'OpaÃ±el'\n",
       "78. 'Orcasitas'\n",
       "79. 'Orcasur'\n",
       "80. 'PacÃ­fico'\n",
       "81. 'Palacio'\n",
       "82. 'Palomas'\n",
       "83. 'Palomeras Bajas'\n",
       "84. 'Palomeras Sureste'\n",
       "85. 'Palos de Moguer'\n",
       "86. 'Pavones'\n",
       "87. 'PeÃ±agrande'\n",
       "88. 'Pilar'\n",
       "89. 'Pinar del Rey'\n",
       "90. 'Piovera'\n",
       "91. 'Portazgo'\n",
       "92. 'Pradolongo'\n",
       "93. 'Prosperidad'\n",
       "94. 'Pueblo Nuevo'\n",
       "95. 'Puerta Bonita'\n",
       "96. 'Puerta del Angel'\n",
       "97. 'Quintana'\n",
       "98. 'Recoletos'\n",
       "99. 'Rejas'\n",
       "100. 'Rios Rosas'\n",
       "101. 'Rosas'\n",
       "102. 'Salvador'\n",
       "103. 'San AndrÃ©s'\n",
       "104. 'San Cristobal'\n",
       "105. 'San Diego'\n",
       "106. 'San FermÃ­n'\n",
       "107. 'San Isidro'\n",
       "108. 'San Juan Bautista'\n",
       "109. 'San Pascual'\n",
       "110. 'Santa Eugenia'\n",
       "111. 'Simancas'\n",
       "112. 'Sol'\n",
       "113. 'TimÃ³n'\n",
       "114. 'Trafalgar'\n",
       "115. 'Universidad'\n",
       "116. 'Valdeacederas'\n",
       "117. 'Valdefuentes'\n",
       "118. 'ValdemarÃ­n'\n",
       "119. 'Valdezarza'\n",
       "120. 'Vallehermoso'\n",
       "121. 'Valverde'\n",
       "122. 'Ventas'\n",
       "123. 'Vinateros'\n",
       "124. 'Vista Alegre'\n",
       "125. 'ZofÃ­o'\n",
       "\n",
       "\n"
      ],
      "text/plain": [
       "  [1] \"Abrantes\"                       \"Acacias\"                       \n",
       "  [3] \"Adelfas\"                        \"Aeropuerto\"                    \n",
       "  [5] \"Aguilas\"                        \"Alameda de Osuna\"              \n",
       "  [7] \"Almagro\"                        \"Almenara\"                      \n",
       "  [9] \"Almendrales\"                    \"Aluche\"                        \n",
       " [11] \"Ambroz\"                         \"Amposta\"                       \n",
       " [13] \"Apostol Santiago\"               \"Arapiles\"                      \n",
       " [15] \"Aravaca\"                        \"Arcos\"                         \n",
       " [17] \"ArgÃ¼elles\"                     \"Atocha\"                        \n",
       " [19] \"Bellas Vistas\"                  \"Berruguete\"                    \n",
       " [21] \"Buenavista\"                     \"Butarque\"                      \n",
       " [23] \"CÃ¡rmenes\"                      \"Campamento\"                    \n",
       " [25] \"Canillas\"                       \"Canillejas\"                    \n",
       " [27] \"Casa de Campo\"                  \"Casco HistÃ³rico de Barajas\"   \n",
       " [29] \"Casco HistÃ³rico de Vallecas\"   \"Casco HistÃ³rico de VicÃ¡lvaro\"\n",
       " [31] \"Castellana\"                     \"Castilla\"                      \n",
       " [33] \"Castillejos\"                    \"Chopera\"                       \n",
       " [35] \"Ciudad JardÃ­n\"                 \"Ciudad Universitaria\"          \n",
       " [37] \"Colina\"                         \"Comillas\"                      \n",
       " [39] \"ConcepciÃ³n\"                    \"Corralejos\"                    \n",
       " [41] \"Cortes\"                         \"Costillares\"                   \n",
       " [43] \"Cuatro Caminos\"                 \"Cuatro Vientos\"                \n",
       " [45] \"Delicias\"                       \"El Goloso\"                     \n",
       " [47] \"El PlantÃ­o\"                    \"El Viso\"                       \n",
       " [49] \"Embajadores\"                    \"EntrevÃ­as\"                    \n",
       " [51] \"Estrella\"                       \"FontarrÃ³n\"                    \n",
       " [53] \"Fuente del Berro\"               \"Fuentelareina\"                 \n",
       " [55] \"Gaztambide\"                     \"Goya\"                          \n",
       " [57] \"Guindalera\"                     \"HellÃ­n\"                       \n",
       " [59] \"HispanoamÃ©rica\"                \"Ibiza\"                         \n",
       " [61] \"Imperial\"                       \"JerÃ³nimos\"                    \n",
       " [63] \"Justicia\"                       \"La Paz\"                        \n",
       " [65] \"Legazpi\"                        \"Lista\"                         \n",
       " [67] \"Los Angeles\"                    \"Los Rosales\"                   \n",
       " [69] \"Lucero\"                         \"Marroquina\"                    \n",
       " [71] \"Media Legua\"                    \"Mirasierra\"                    \n",
       " [73] \"MoscardÃ³\"                      \"NiÃ±o JesÃºs\"                  \n",
       " [75] \"Nueva EspaÃ±a\"                  \"Numancia\"                      \n",
       " [77] \"OpaÃ±el\"                        \"Orcasitas\"                     \n",
       " [79] \"Orcasur\"                        \"PacÃ­fico\"                     \n",
       " [81] \"Palacio\"                        \"Palomas\"                       \n",
       " [83] \"Palomeras Bajas\"                \"Palomeras Sureste\"             \n",
       " [85] \"Palos de Moguer\"                \"Pavones\"                       \n",
       " [87] \"PeÃ±agrande\"                    \"Pilar\"                         \n",
       " [89] \"Pinar del Rey\"                  \"Piovera\"                       \n",
       " [91] \"Portazgo\"                       \"Pradolongo\"                    \n",
       " [93] \"Prosperidad\"                    \"Pueblo Nuevo\"                  \n",
       " [95] \"Puerta Bonita\"                  \"Puerta del Angel\"              \n",
       " [97] \"Quintana\"                       \"Recoletos\"                     \n",
       " [99] \"Rejas\"                          \"Rios Rosas\"                    \n",
       "[101] \"Rosas\"                          \"Salvador\"                      \n",
       "[103] \"San AndrÃ©s\"                    \"San Cristobal\"                 \n",
       "[105] \"San Diego\"                      \"San FermÃ­n\"                   \n",
       "[107] \"San Isidro\"                     \"San Juan Bautista\"             \n",
       "[109] \"San Pascual\"                    \"Santa Eugenia\"                 \n",
       "[111] \"Simancas\"                       \"Sol\"                           \n",
       "[113] \"TimÃ³n\"                         \"Trafalgar\"                     \n",
       "[115] \"Universidad\"                    \"Valdeacederas\"                 \n",
       "[117] \"Valdefuentes\"                   \"ValdemarÃ­n\"                   \n",
       "[119] \"Valdezarza\"                     \"Vallehermoso\"                  \n",
       "[121] \"Valverde\"                       \"Ventas\"                        \n",
       "[123] \"Vinateros\"                      \"Vista Alegre\"                  \n",
       "[125] \"ZofÃ­o\"                        "
      ]
     },
     "metadata": {},
     "output_type": "display_data"
    }
   ],
   "source": [
    "paste(\"Número de barrios: \", length(unique(airbnb$Barrio)))\n",
    "\n",
    "levels(airbnb$Barrio)"
   ]
  },
  {
   "cell_type": "markdown",
   "metadata": {},
   "source": [
    "¿Cuales son los 5 barrios que tienen mayor número entradas?"
   ]
  },
  {
   "cell_type": "code",
   "execution_count": 125,
   "metadata": {},
   "outputs": [
    {
     "name": "stdout",
     "output_type": "stream",
     "text": [
      "[1] \"Los 5 barrios con más entradas son:\"\n",
      "      Barrios Número de entradas\n",
      "1 Embajadores               1844\n",
      "2 Universidad               1358\n",
      "3     Palacio               1083\n",
      "4         Sol                940\n",
      "5    Justicia                785\n"
     ]
    }
   ],
   "source": [
    "print(\"Los 5 barrios con más entradas son:\")\n",
    "moreNeighborhoods <- data.frame(head(sort(table(airbnb$Barrio),decreasing = T),5))\n",
    "names(moreNeighborhoods) <- c(\"Barrios\", \"Número de entradas\")\n",
    "print(moreNeighborhoods)"
   ]
  },
  {
   "cell_type": "markdown",
   "metadata": {},
   "source": [
    "¿Cuantos Tipos de Alquiler diferentes hay? ¿Cuales son? ¿Cuantas entradas en el dataframe hay por cada tipo?"
   ]
  },
  {
   "cell_type": "code",
   "execution_count": 69,
   "metadata": {},
   "outputs": [
    {
     "data": {
      "text/html": [
       "3"
      ],
      "text/latex": [
       "3"
      ],
      "text/markdown": [
       "3"
      ],
      "text/plain": [
       "[1] 3"
      ]
     },
     "metadata": {},
     "output_type": "display_data"
    },
    {
     "data": {
      "text/plain": [
       "\n",
       "Entire home/apt    Private room     Shared room \n",
       "           7903            5113             191 "
      ]
     },
     "metadata": {},
     "output_type": "display_data"
    }
   ],
   "source": [
    "length(unique(airbnb$TipoAlquiler))\n",
    "table(airbnb$TipoAlquiler)"
   ]
  },
  {
   "cell_type": "markdown",
   "metadata": {},
   "source": [
    "Muestra el diagrama de cajas del precio para cada uno de los diferentes Tipos de Alquiler"
   ]
  },
  {
   "cell_type": "code",
   "execution_count": 126,
   "metadata": {},
   "outputs": [
    {
     "name": "stderr",
     "output_type": "stream",
     "text": [
      "Warning message:\n",
      "\"Removed 9 rows containing non-finite values (stat_boxplot).\""
     ]
    },
    {
     "data": {
      "image/png": "[encoded data removed]",
      "text/plain": [
       "plot without title"
      ]
     },
     "metadata": {},
     "output_type": "display_data"
    }
   ],
   "source": [
    "library(ggplot2)\n",
    "ggplot(airbnb,aes(y=Precio,x=TipoAlquiler,color=TipoAlquiler))+geom_boxplot()"
   ]
  },
  {
   "cell_type": "markdown",
   "metadata": {},
   "source": [
    "Cual es el precio medio de alquiler de cada uno, la diferencia que hay ¿es estadísticamente significativa?\n",
    "¿Con que test lo comprobarías?"
   ]
  },
  {
   "cell_type": "code",
   "execution_count": 71,
   "metadata": {},
   "outputs": [
    {
     "name": "stdout",
     "output_type": "stream",
     "text": [
      "[1] \"Precio medio tipo Entire home/apt  =  87.2966058763931\"\n",
      "[1] \" - Test shapiro pvalor =  1.24077898621874e-72\"\n",
      "[1] \"Precio medio tipo Private room  =  34.255135981217\"\n",
      "[1] \" - Test shapiro pvalor =  9.18974842339072e-85\"\n",
      "[1] \"Precio medio tipo Shared room  =  29.8534031413613\"\n",
      "[1] \" - Test shapiro pvalor =  4.51672121600842e-24\"\n"
     ]
    },
    {
     "data": {
      "text/html": [
       "'Las medias son estadísticamente diferentes ya que el pvalor es muy bajo. pvalor= 0'"
      ],
      "text/latex": [
       "'Las medias son estadísticamente diferentes ya que el pvalor es muy bajo. pvalor= 0'"
      ],
      "text/markdown": [
       "'Las medias son estadísticamente diferentes ya que el pvalor es muy bajo. pvalor= 0'"
      ],
      "text/plain": [
       "[1] \"Las medias son estadísticamente diferentes ya que el pvalor es muy bajo. pvalor= 0\""
      ]
     },
     "metadata": {},
     "output_type": "display_data"
    }
   ],
   "source": [
    "for (tipo in levels(airbnb$TipoAlquiler)){\n",
    "    df<-subset(airbnb,TipoAlquiler==tipo)\n",
    "    print(paste(\"Precio medio tipo\",tipo,\" = \",mean(df$Precio,na.rm=T)))\n",
    "    if (nrow(df)>5000){\n",
    "        df<-df[1:5000,]\n",
    "    }\n",
    "    sp<-shapiro.test(df$Precio)\n",
    "    print(paste(\" - Test shapiro pvalor = \",sp$p.value))\n",
    "}\n",
    "\n",
    "kt<-kruskal.test(Precio~TipoAlquiler,airbnb)\n",
    "\n",
    "paste(\"Los precios medios del aqluiler son diferentes porque  el pvalor es muy bajo. pvalor=\",kt$p.value)"
   ]
  },
  {
   "cell_type": "markdown",
   "metadata": {},
   "source": [
    "Filtra el dataframe cuyos tipo de alquiler sea  'Entire home/apt' y guardalo en un dataframe llamado \n",
    "*airbnb_entire*.\n",
    "Estas serán las entradas que tienen un alquiler del piso completo."
   ]
  },
  {
   "cell_type": "code",
   "execution_count": 72,
   "metadata": {},
   "outputs": [],
   "source": [
    "airbnb_entire<-subset(airbnb,TipoAlquiler=='Entire home/apt')"
   ]
  },
  {
   "cell_type": "markdown",
   "metadata": {},
   "source": [
    "¿Cuales son los 5 barrios que tienen un mayor número de apartamentos enteros en alquiler?\n",
    "Nota: Mirar solo en airbnb_entire. A partir de este punto y hasta que se diga lo contrario partiremos de airbnb_entire."
   ]
  },
  {
   "cell_type": "code",
   "execution_count": 73,
   "metadata": {},
   "outputs": [
    {
     "data": {
      "text/plain": [
       "\n",
       "Embajadores Universidad     Palacio         Sol      Cortes \n",
       "       1228         984         769         701         574 "
      ]
     },
     "metadata": {},
     "output_type": "display_data"
    }
   ],
   "source": [
    "head(sort(table(airbnb_entire$Barrio),decreasing = T),5)"
   ]
  },
  {
   "cell_type": "markdown",
   "metadata": {},
   "source": [
    "¿Cuales son los 5 barrios que tienen un mayor precio medio de alquiler para apartamentos enteros (es decir, del dataframe airbnb_entire)?\n",
    "\n",
    "¿Cual es su precio medio?\n",
    "\n",
    "Ayuda: Usa la función aggregate `aggregate(.~colname,df,mean,na.rm=TRUE)`"
   ]
  },
  {
   "cell_type": "code",
   "execution_count": 74,
   "metadata": {},
   "outputs": [
    {
     "data": {
      "text/html": [
       "<table>\n",
       "<thead><tr><th scope=col>Barrio</th><th scope=col>Precio</th></tr></thead>\n",
       "<tbody>\n",
       "\t<tr><td>Abrantes                      </td><td> 46.00000                     </td></tr>\n",
       "\t<tr><td>Acacias                       </td><td> 68.16393                     </td></tr>\n",
       "\t<tr><td>Adelfas                       </td><td> 68.72727                     </td></tr>\n",
       "\t<tr><td>Aeropuerto                    </td><td> 38.00000                     </td></tr>\n",
       "\t<tr><td>Aguilas                       </td><td> 54.50000                     </td></tr>\n",
       "\t<tr><td>Alameda de Osuna              </td><td>138.75000                     </td></tr>\n",
       "\t<tr><td>Almagro                       </td><td>109.18557                     </td></tr>\n",
       "\t<tr><td>Almenara                      </td><td> 65.68000                     </td></tr>\n",
       "\t<tr><td>Almendrales                   </td><td> 77.50000                     </td></tr>\n",
       "\t<tr><td>Aluche                        </td><td> 55.88889                     </td></tr>\n",
       "\t<tr><td>Ambroz                        </td><td> 34.50000                     </td></tr>\n",
       "\t<tr><td>Apostol Santiago              </td><td> 96.60000                     </td></tr>\n",
       "\t<tr><td>Arapiles                      </td><td> 69.62245                     </td></tr>\n",
       "\t<tr><td>Aravaca                       </td><td> 66.33333                     </td></tr>\n",
       "\t<tr><td>Arcos                         </td><td>100.50000                     </td></tr>\n",
       "\t<tr><td>ArgÃ¼elles                    </td><td> 89.57343                     </td></tr>\n",
       "\t<tr><td>Atocha                        </td><td> 71.44444                     </td></tr>\n",
       "\t<tr><td>Bellas Vistas                 </td><td> 51.77778                     </td></tr>\n",
       "\t<tr><td>Berruguete                    </td><td> 53.85714                     </td></tr>\n",
       "\t<tr><td>Buenavista                    </td><td> 57.91667                     </td></tr>\n",
       "\t<tr><td>Butarque                      </td><td> 42.00000                     </td></tr>\n",
       "\t<tr><td>CÃ¡rmenes                     </td><td> 78.00000                     </td></tr>\n",
       "\t<tr><td>Campamento                    </td><td> 45.55556                     </td></tr>\n",
       "\t<tr><td>Canillas                      </td><td>105.80000                     </td></tr>\n",
       "\t<tr><td>Canillejas                    </td><td> 91.66667                     </td></tr>\n",
       "\t<tr><td>Casa de Campo                 </td><td> 98.85366                     </td></tr>\n",
       "\t<tr><td>Casco HistÃ³rico de Barajas   </td><td>141.25000                     </td></tr>\n",
       "\t<tr><td>Casco HistÃ³rico de Vallecas  </td><td> 61.11111                     </td></tr>\n",
       "\t<tr><td>Casco HistÃ³rico de VicÃ¡lvaro</td><td> 73.87500                     </td></tr>\n",
       "\t<tr><td>Castellana                    </td><td>141.38889                     </td></tr>\n",
       "\t<tr><td>...</td><td>...</td></tr>\n",
       "\t<tr><td>Puerta Bonita    </td><td> 88.00000        </td></tr>\n",
       "\t<tr><td>Puerta del Angel </td><td> 59.67532        </td></tr>\n",
       "\t<tr><td>Quintana         </td><td> 65.00000        </td></tr>\n",
       "\t<tr><td>Recoletos        </td><td>161.92537        </td></tr>\n",
       "\t<tr><td>Rejas            </td><td> 64.18182        </td></tr>\n",
       "\t<tr><td>Rios Rosas       </td><td> 83.00000        </td></tr>\n",
       "\t<tr><td>Salvador         </td><td> 66.40000        </td></tr>\n",
       "\t<tr><td>San AndrÃ©s      </td><td> 50.91667        </td></tr>\n",
       "\t<tr><td>San Cristobal    </td><td> 56.50000        </td></tr>\n",
       "\t<tr><td>San Diego        </td><td> 44.34375        </td></tr>\n",
       "\t<tr><td>San FermÃ­n      </td><td> 63.50000        </td></tr>\n",
       "\t<tr><td>San Isidro       </td><td> 76.10256        </td></tr>\n",
       "\t<tr><td>San Juan Bautista</td><td> 75.53846        </td></tr>\n",
       "\t<tr><td>San Pascual      </td><td> 72.42857        </td></tr>\n",
       "\t<tr><td>Santa Eugenia    </td><td> 47.00000        </td></tr>\n",
       "\t<tr><td>Simancas         </td><td> 57.14286        </td></tr>\n",
       "\t<tr><td>Sol              </td><td>100.75036        </td></tr>\n",
       "\t<tr><td>TimÃ³n           </td><td> 72.20000        </td></tr>\n",
       "\t<tr><td>Trafalgar        </td><td> 98.57848        </td></tr>\n",
       "\t<tr><td>Universidad      </td><td> 79.39674        </td></tr>\n",
       "\t<tr><td>Valdeacederas    </td><td> 67.36000        </td></tr>\n",
       "\t<tr><td>Valdefuentes     </td><td> 84.25000        </td></tr>\n",
       "\t<tr><td>ValdemarÃ­n      </td><td> 70.50000        </td></tr>\n",
       "\t<tr><td>Valdezarza       </td><td> 53.33333        </td></tr>\n",
       "\t<tr><td>Vallehermoso     </td><td> 92.39394        </td></tr>\n",
       "\t<tr><td>Valverde         </td><td> 71.57895        </td></tr>\n",
       "\t<tr><td>Ventas           </td><td> 50.03846        </td></tr>\n",
       "\t<tr><td>Vinateros        </td><td>102.50000        </td></tr>\n",
       "\t<tr><td>Vista Alegre     </td><td> 59.45455        </td></tr>\n",
       "\t<tr><td>ZofÃ­o           </td><td> 48.00000        </td></tr>\n",
       "</tbody>\n",
       "</table>\n"
      ],
      "text/latex": [
       "\\begin{tabular}{r|ll}\n",
       " Barrio & Precio\\\\\n",
       "\\hline\n",
       "\t Abrantes                       &  46.00000                     \\\\\n",
       "\t Acacias                        &  68.16393                     \\\\\n",
       "\t Adelfas                        &  68.72727                     \\\\\n",
       "\t Aeropuerto                     &  38.00000                     \\\\\n",
       "\t Aguilas                        &  54.50000                     \\\\\n",
       "\t Alameda de Osuna               & 138.75000                     \\\\\n",
       "\t Almagro                        & 109.18557                     \\\\\n",
       "\t Almenara                       &  65.68000                     \\\\\n",
       "\t Almendrales                    &  77.50000                     \\\\\n",
       "\t Aluche                         &  55.88889                     \\\\\n",
       "\t Ambroz                         &  34.50000                     \\\\\n",
       "\t Apostol Santiago               &  96.60000                     \\\\\n",
       "\t Arapiles                       &  69.62245                     \\\\\n",
       "\t Aravaca                        &  66.33333                     \\\\\n",
       "\t Arcos                          & 100.50000                     \\\\\n",
       "\t ArgÃ¼elles                     &  89.57343                     \\\\\n",
       "\t Atocha                         &  71.44444                     \\\\\n",
       "\t Bellas Vistas                  &  51.77778                     \\\\\n",
       "\t Berruguete                     &  53.85714                     \\\\\n",
       "\t Buenavista                     &  57.91667                     \\\\\n",
       "\t Butarque                       &  42.00000                     \\\\\n",
       "\t CÃ¡rmenes                      &  78.00000                     \\\\\n",
       "\t Campamento                     &  45.55556                     \\\\\n",
       "\t Canillas                       & 105.80000                     \\\\\n",
       "\t Canillejas                     &  91.66667                     \\\\\n",
       "\t Casa de Campo                  &  98.85366                     \\\\\n",
       "\t Casco HistÃ³rico de Barajas    & 141.25000                     \\\\\n",
       "\t Casco HistÃ³rico de Vallecas   &  61.11111                     \\\\\n",
       "\t Casco HistÃ³rico de VicÃ¡lvaro &  73.87500                     \\\\\n",
       "\t Castellana                     & 141.38889                     \\\\\n",
       "\t ... & ...\\\\\n",
       "\t Puerta Bonita     &  88.00000        \\\\\n",
       "\t Puerta del Angel  &  59.67532        \\\\\n",
       "\t Quintana          &  65.00000        \\\\\n",
       "\t Recoletos         & 161.92537        \\\\\n",
       "\t Rejas             &  64.18182        \\\\\n",
       "\t Rios Rosas        &  83.00000        \\\\\n",
       "\t Salvador          &  66.40000        \\\\\n",
       "\t San AndrÃ©s       &  50.91667        \\\\\n",
       "\t San Cristobal     &  56.50000        \\\\\n",
       "\t San Diego         &  44.34375        \\\\\n",
       "\t San FermÃ­n       &  63.50000        \\\\\n",
       "\t San Isidro        &  76.10256        \\\\\n",
       "\t San Juan Bautista &  75.53846        \\\\\n",
       "\t San Pascual       &  72.42857        \\\\\n",
       "\t Santa Eugenia     &  47.00000        \\\\\n",
       "\t Simancas          &  57.14286        \\\\\n",
       "\t Sol               & 100.75036        \\\\\n",
       "\t TimÃ³n            &  72.20000        \\\\\n",
       "\t Trafalgar         &  98.57848        \\\\\n",
       "\t Universidad       &  79.39674        \\\\\n",
       "\t Valdeacederas     &  67.36000        \\\\\n",
       "\t Valdefuentes      &  84.25000        \\\\\n",
       "\t ValdemarÃ­n       &  70.50000        \\\\\n",
       "\t Valdezarza        &  53.33333        \\\\\n",
       "\t Vallehermoso      &  92.39394        \\\\\n",
       "\t Valverde          &  71.57895        \\\\\n",
       "\t Ventas            &  50.03846        \\\\\n",
       "\t Vinateros         & 102.50000        \\\\\n",
       "\t Vista Alegre      &  59.45455        \\\\\n",
       "\t ZofÃ­o            &  48.00000        \\\\\n",
       "\\end{tabular}\n"
      ],
      "text/markdown": [
       "\n",
       "| Barrio | Precio |\n",
       "|---|---|\n",
       "| Abrantes                       |  46.00000                      |\n",
       "| Acacias                        |  68.16393                      |\n",
       "| Adelfas                        |  68.72727                      |\n",
       "| Aeropuerto                     |  38.00000                      |\n",
       "| Aguilas                        |  54.50000                      |\n",
       "| Alameda de Osuna               | 138.75000                      |\n",
       "| Almagro                        | 109.18557                      |\n",
       "| Almenara                       |  65.68000                      |\n",
       "| Almendrales                    |  77.50000                      |\n",
       "| Aluche                         |  55.88889                      |\n",
       "| Ambroz                         |  34.50000                      |\n",
       "| Apostol Santiago               |  96.60000                      |\n",
       "| Arapiles                       |  69.62245                      |\n",
       "| Aravaca                        |  66.33333                      |\n",
       "| Arcos                          | 100.50000                      |\n",
       "| ArgÃ¼elles                     |  89.57343                      |\n",
       "| Atocha                         |  71.44444                      |\n",
       "| Bellas Vistas                  |  51.77778                      |\n",
       "| Berruguete                     |  53.85714                      |\n",
       "| Buenavista                     |  57.91667                      |\n",
       "| Butarque                       |  42.00000                      |\n",
       "| CÃ¡rmenes                      |  78.00000                      |\n",
       "| Campamento                     |  45.55556                      |\n",
       "| Canillas                       | 105.80000                      |\n",
       "| Canillejas                     |  91.66667                      |\n",
       "| Casa de Campo                  |  98.85366                      |\n",
       "| Casco HistÃ³rico de Barajas    | 141.25000                      |\n",
       "| Casco HistÃ³rico de Vallecas   |  61.11111                      |\n",
       "| Casco HistÃ³rico de VicÃ¡lvaro |  73.87500                      |\n",
       "| Castellana                     | 141.38889                      |\n",
       "| ... | ... |\n",
       "| Puerta Bonita     |  88.00000         |\n",
       "| Puerta del Angel  |  59.67532         |\n",
       "| Quintana          |  65.00000         |\n",
       "| Recoletos         | 161.92537         |\n",
       "| Rejas             |  64.18182         |\n",
       "| Rios Rosas        |  83.00000         |\n",
       "| Salvador          |  66.40000         |\n",
       "| San AndrÃ©s       |  50.91667         |\n",
       "| San Cristobal     |  56.50000         |\n",
       "| San Diego         |  44.34375         |\n",
       "| San FermÃ­n       |  63.50000         |\n",
       "| San Isidro        |  76.10256         |\n",
       "| San Juan Bautista |  75.53846         |\n",
       "| San Pascual       |  72.42857         |\n",
       "| Santa Eugenia     |  47.00000         |\n",
       "| Simancas          |  57.14286         |\n",
       "| Sol               | 100.75036         |\n",
       "| TimÃ³n            |  72.20000         |\n",
       "| Trafalgar         |  98.57848         |\n",
       "| Universidad       |  79.39674         |\n",
       "| Valdeacederas     |  67.36000         |\n",
       "| Valdefuentes      |  84.25000         |\n",
       "| ValdemarÃ­n       |  70.50000         |\n",
       "| Valdezarza        |  53.33333         |\n",
       "| Vallehermoso      |  92.39394         |\n",
       "| Valverde          |  71.57895         |\n",
       "| Ventas            |  50.03846         |\n",
       "| Vinateros         | 102.50000         |\n",
       "| Vista Alegre      |  59.45455         |\n",
       "| ZofÃ­o            |  48.00000         |\n",
       "\n"
      ],
      "text/plain": [
       "    Barrio                         Precio   \n",
       "1   Abrantes                        46.00000\n",
       "2   Acacias                         68.16393\n",
       "3   Adelfas                         68.72727\n",
       "4   Aeropuerto                      38.00000\n",
       "5   Aguilas                         54.50000\n",
       "6   Alameda de Osuna               138.75000\n",
       "7   Almagro                        109.18557\n",
       "8   Almenara                        65.68000\n",
       "9   Almendrales                     77.50000\n",
       "10  Aluche                          55.88889\n",
       "11  Ambroz                          34.50000\n",
       "12  Apostol Santiago                96.60000\n",
       "13  Arapiles                        69.62245\n",
       "14  Aravaca                         66.33333\n",
       "15  Arcos                          100.50000\n",
       "16  ArgÃ¼elles                      89.57343\n",
       "17  Atocha                          71.44444\n",
       "18  Bellas Vistas                   51.77778\n",
       "19  Berruguete                      53.85714\n",
       "20  Buenavista                      57.91667\n",
       "21  Butarque                        42.00000\n",
       "22  CÃ¡rmenes                       78.00000\n",
       "23  Campamento                      45.55556\n",
       "24  Canillas                       105.80000\n",
       "25  Canillejas                      91.66667\n",
       "26  Casa de Campo                   98.85366\n",
       "27  Casco HistÃ³rico de Barajas    141.25000\n",
       "28  Casco HistÃ³rico de Vallecas    61.11111\n",
       "29  Casco HistÃ³rico de VicÃ¡lvaro  73.87500\n",
       "30  Castellana                     141.38889\n",
       "... ...                            ...      \n",
       "90  Puerta Bonita                   88.00000\n",
       "91  Puerta del Angel                59.67532\n",
       "92  Quintana                        65.00000\n",
       "93  Recoletos                      161.92537\n",
       "94  Rejas                           64.18182\n",
       "95  Rios Rosas                      83.00000\n",
       "96  Salvador                        66.40000\n",
       "97  San AndrÃ©s                     50.91667\n",
       "98  San Cristobal                   56.50000\n",
       "99  San Diego                       44.34375\n",
       "100 San FermÃ­n                     63.50000\n",
       "101 San Isidro                      76.10256\n",
       "102 San Juan Bautista               75.53846\n",
       "103 San Pascual                     72.42857\n",
       "104 Santa Eugenia                   47.00000\n",
       "105 Simancas                        57.14286\n",
       "106 Sol                            100.75036\n",
       "107 TimÃ³n                          72.20000\n",
       "108 Trafalgar                       98.57848\n",
       "109 Universidad                     79.39674\n",
       "110 Valdeacederas                   67.36000\n",
       "111 Valdefuentes                    84.25000\n",
       "112 ValdemarÃ­n                     70.50000\n",
       "113 Valdezarza                      53.33333\n",
       "114 Vallehermoso                    92.39394\n",
       "115 Valverde                        71.57895\n",
       "116 Ventas                          50.03846\n",
       "117 Vinateros                      102.50000\n",
       "118 Vista Alegre                    59.45455\n",
       "119 ZofÃ­o                          48.00000"
      ]
     },
     "metadata": {},
     "output_type": "display_data"
    }
   ],
   "source": [
    "mean_price<-aggregate(. ~ Barrio, airbnb_entire[,c(\"Precio\",\"Barrio\")], mean,na.rm=FALSE)\n",
    "mean_price<-aggregate(Precio ~ Barrio, airbnb_entire, mean,na.rm=TRUE)\n",
    "mean_price"
   ]
  },
  {
   "cell_type": "markdown",
   "metadata": {},
   "source": [
    "¿Cuantos apartamentos hay en cada uno de esos barrios?\n",
    "\n",
    "Mostrar una dataframe con el nombre del barrio, el precio y el número de entradas.\n",
    "\n",
    "Ayuda: Podeis crear un nuevo dataframe con las columnas \"Barrio\" y \"Freq\" que contenga el número de entradas en cada barrio y hacer un merge con el dataframe del punto anterior."
   ]
  },
  {
   "cell_type": "code",
   "execution_count": 130,
   "metadata": {},
   "outputs": [
    {
     "data": {
      "text/html": [
       "<table>\n",
       "<thead><tr><th></th><th scope=col>Barrio</th><th scope=col>Freq</th><th scope=col>Freq.x</th><th scope=col>Freq.y</th><th scope=col>Precio</th></tr></thead>\n",
       "<tbody>\n",
       "\t<tr><th scope=row>77</th><td>Palomas      </td><td>  4          </td><td>  4          </td><td>  4          </td><td>309.7500     </td></tr>\n",
       "\t<tr><th scope=row>50</th><td>Fuentelareina</td><td>  2          </td><td>  2          </td><td>  2          </td><td>180.0000     </td></tr>\n",
       "\t<tr><th scope=row>93</th><td>Recoletos    </td><td>135          </td><td>135          </td><td>135          </td><td>161.9254     </td></tr>\n",
       "\t<tr><th scope=row>43</th><td>El PlantÃ­o  </td><td>  1          </td><td>  1          </td><td>  1          </td><td>150.0000     </td></tr>\n",
       "\t<tr><th scope=row>30</th><td>Castellana   </td><td> 73          </td><td> 73          </td><td> 73          </td><td>141.3889     </td></tr>\n",
       "</tbody>\n",
       "</table>\n"
      ],
      "text/latex": [
       "\\begin{tabular}{r|lllll}\n",
       "  & Barrio & Freq & Freq.x & Freq.y & Precio\\\\\n",
       "\\hline\n",
       "\t77 & Palomas       &   4           &   4           &   4           & 309.7500     \\\\\n",
       "\t50 & Fuentelareina &   2           &   2           &   2           & 180.0000     \\\\\n",
       "\t93 & Recoletos     & 135           & 135           & 135           & 161.9254     \\\\\n",
       "\t43 & El PlantÃ­o   &   1           &   1           &   1           & 150.0000     \\\\\n",
       "\t30 & Castellana    &  73           &  73           &  73           & 141.3889     \\\\\n",
       "\\end{tabular}\n"
      ],
      "text/markdown": [
       "\n",
       "| <!--/--> | Barrio | Freq | Freq.x | Freq.y | Precio |\n",
       "|---|---|---|---|---|---|\n",
       "| 77 | Palomas       |   4           |   4           |   4           | 309.7500      |\n",
       "| 50 | Fuentelareina |   2           |   2           |   2           | 180.0000      |\n",
       "| 93 | Recoletos     | 135           | 135           | 135           | 161.9254      |\n",
       "| 43 | El PlantÃ­o   |   1           |   1           |   1           | 150.0000      |\n",
       "| 30 | Castellana    |  73           |  73           |  73           | 141.3889      |\n",
       "\n"
      ],
      "text/plain": [
       "   Barrio        Freq Freq.x Freq.y Precio  \n",
       "77 Palomas         4    4      4    309.7500\n",
       "50 Fuentelareina   2    2      2    180.0000\n",
       "93 Recoletos     135  135    135    161.9254\n",
       "43 El PlantÃ­o     1    1      1    150.0000\n",
       "30 Castellana     73   73     73    141.3889"
      ]
     },
     "metadata": {},
     "output_type": "display_data"
    }
   ],
   "source": [
    "count_value<-data.frame(table(airbnb_entire$Barrio))\n",
    "colnames(count_value)<-c(\"Barrio\",\"Freq\")\n",
    "mean_price<-merge(count_value,mean_price,by=\"Barrio\")\n",
    "\n",
    "mean_price<-mean_price[order(mean_price$Precio,decreasing = T),]\n",
    "head(mean_price,5)"
   ]
  },
  {
   "cell_type": "markdown",
   "metadata": {},
   "source": [
    "Partiendo del dataframe anterior, muestra los 5 barrios con mayor precio, pero que tengan más de 100 entradas de alquiler."
   ]
  },
  {
   "cell_type": "code",
   "execution_count": 131,
   "metadata": {},
   "outputs": [
    {
     "data": {
      "text/html": [
       "<table>\n",
       "<thead><tr><th></th><th scope=col>Barrio</th><th scope=col>Freq</th><th scope=col>Freq.x</th><th scope=col>Freq.y</th><th scope=col>Precio</th></tr></thead>\n",
       "<tbody>\n",
       "\t<tr><th scope=row>93</th><td>Recoletos</td><td>135      </td><td>135      </td><td>135      </td><td>161.92537</td></tr>\n",
       "\t<tr><th scope=row>52</th><td>Goya     </td><td>142      </td><td>142      </td><td>142      </td><td>111.33803</td></tr>\n",
       "\t<tr><th scope=row>106</th><td>Sol      </td><td>701      </td><td>701      </td><td>701      </td><td>100.75036</td></tr>\n",
       "\t<tr><th scope=row>108</th><td>Trafalgar</td><td>223      </td><td>223      </td><td>223      </td><td> 98.57848</td></tr>\n",
       "\t<tr><th scope=row>59</th><td>Justicia </td><td>534      </td><td>534      </td><td>534      </td><td> 98.25468</td></tr>\n",
       "</tbody>\n",
       "</table>\n"
      ],
      "text/latex": [
       "\\begin{tabular}{r|lllll}\n",
       "  & Barrio & Freq & Freq.x & Freq.y & Precio\\\\\n",
       "\\hline\n",
       "\t93 & Recoletos & 135       & 135       & 135       & 161.92537\\\\\n",
       "\t52 & Goya      & 142       & 142       & 142       & 111.33803\\\\\n",
       "\t106 & Sol       & 701       & 701       & 701       & 100.75036\\\\\n",
       "\t108 & Trafalgar & 223       & 223       & 223       &  98.57848\\\\\n",
       "\t59 & Justicia  & 534       & 534       & 534       &  98.25468\\\\\n",
       "\\end{tabular}\n"
      ],
      "text/markdown": [
       "\n",
       "| <!--/--> | Barrio | Freq | Freq.x | Freq.y | Precio |\n",
       "|---|---|---|---|---|---|\n",
       "| 93 | Recoletos | 135       | 135       | 135       | 161.92537 |\n",
       "| 52 | Goya      | 142       | 142       | 142       | 111.33803 |\n",
       "| 106 | Sol       | 701       | 701       | 701       | 100.75036 |\n",
       "| 108 | Trafalgar | 223       | 223       | 223       |  98.57848 |\n",
       "| 59 | Justicia  | 534       | 534       | 534       |  98.25468 |\n",
       "\n"
      ],
      "text/plain": [
       "    Barrio    Freq Freq.x Freq.y Precio   \n",
       "93  Recoletos 135  135    135    161.92537\n",
       "52  Goya      142  142    142    111.33803\n",
       "106 Sol       701  701    701    100.75036\n",
       "108 Trafalgar 223  223    223     98.57848\n",
       "59  Justicia  534  534    534     98.25468"
      ]
     },
     "metadata": {},
     "output_type": "display_data"
    }
   ],
   "source": [
    "mean_price_100<-subset(mean_price,mean_price$Freq>100)\n",
    "\n",
    "head(mean_price_100,5)\n",
    "barrios<-head(mean_price_100,5)$Barrio"
   ]
  },
  {
   "cell_type": "markdown",
   "metadata": {},
   "source": [
    "Dibuja el diagrama de densidad de distribución de los diferentes precios. Serían 5 gráficas, una por cada barrio."
   ]
  },
  {
   "cell_type": "code",
   "execution_count": 132,
   "metadata": {},
   "outputs": [
    {
     "name": "stderr",
     "output_type": "stream",
     "text": [
      "Warning message:\n",
      "\"Removed 1 rows containing non-finite values (stat_density).\""
     ]
    },
    {
     "data": {
      "image/png": "[encoded data removed]",
      "text/plain": [
       "plot without title"
      ]
     },
     "metadata": {},
     "output_type": "display_data"
    }
   ],
   "source": [
    "top_barrios<-subset(airbnb_entire,Barrio %in% barrios)\n",
    "ggplot(top_barrios,aes(x=Precio,color=Barrio))+geom_density(bw=10)"
   ]
  },
  {
   "cell_type": "markdown",
   "metadata": {},
   "source": [
    "Calcula el tamaño medio, en metros cuadrados, para los 5 barrios anteriores y muestralo en el mismo dataframe junto con el precio y número de entradas"
   ]
  },
  {
   "cell_type": "code",
   "execution_count": 133,
   "metadata": {},
   "outputs": [
    {
     "data": {
      "text/html": [
       "<table>\n",
       "<thead><tr><th></th><th scope=col>Barrio</th><th scope=col>Freq</th><th scope=col>Freq.x</th><th scope=col>Freq.y</th><th scope=col>Precio</th><th scope=col>MetrosCuadrados</th></tr></thead>\n",
       "<tbody>\n",
       "\t<tr><th scope=row>8</th><td>Recoletos</td><td>135      </td><td>135      </td><td>135      </td><td>161.92537</td><td>26.66316 </td></tr>\n",
       "\t<tr><th scope=row>4</th><td>Goya     </td><td>142      </td><td>142      </td><td>142      </td><td>111.33803</td><td>51.68504 </td></tr>\n",
       "\t<tr><th scope=row>9</th><td>Sol      </td><td>701      </td><td>701      </td><td>701      </td><td>100.75036</td><td>45.61692 </td></tr>\n",
       "\t<tr><th scope=row>10</th><td>Trafalgar</td><td>223      </td><td>223      </td><td>223      </td><td> 98.57848</td><td>29.30426 </td></tr>\n",
       "\t<tr><th scope=row>5</th><td>Justicia </td><td>534      </td><td>534      </td><td>534      </td><td> 98.25468</td><td>28.52669 </td></tr>\n",
       "</tbody>\n",
       "</table>\n"
      ],
      "text/latex": [
       "\\begin{tabular}{r|llllll}\n",
       "  & Barrio & Freq & Freq.x & Freq.y & Precio & MetrosCuadrados\\\\\n",
       "\\hline\n",
       "\t8 & Recoletos & 135       & 135       & 135       & 161.92537 & 26.66316 \\\\\n",
       "\t4 & Goya      & 142       & 142       & 142       & 111.33803 & 51.68504 \\\\\n",
       "\t9 & Sol       & 701       & 701       & 701       & 100.75036 & 45.61692 \\\\\n",
       "\t10 & Trafalgar & 223       & 223       & 223       &  98.57848 & 29.30426 \\\\\n",
       "\t5 & Justicia  & 534       & 534       & 534       &  98.25468 & 28.52669 \\\\\n",
       "\\end{tabular}\n"
      ],
      "text/markdown": [
       "\n",
       "| <!--/--> | Barrio | Freq | Freq.x | Freq.y | Precio | MetrosCuadrados |\n",
       "|---|---|---|---|---|---|---|\n",
       "| 8 | Recoletos | 135       | 135       | 135       | 161.92537 | 26.66316  |\n",
       "| 4 | Goya      | 142       | 142       | 142       | 111.33803 | 51.68504  |\n",
       "| 9 | Sol       | 701       | 701       | 701       | 100.75036 | 45.61692  |\n",
       "| 10 | Trafalgar | 223       | 223       | 223       |  98.57848 | 29.30426  |\n",
       "| 5 | Justicia  | 534       | 534       | 534       |  98.25468 | 28.52669  |\n",
       "\n"
      ],
      "text/plain": [
       "   Barrio    Freq Freq.x Freq.y Precio    MetrosCuadrados\n",
       "8  Recoletos 135  135    135    161.92537 26.66316       \n",
       "4  Goya      142  142    142    111.33803 51.68504       \n",
       "9  Sol       701  701    701    100.75036 45.61692       \n",
       "10 Trafalgar 223  223    223     98.57848 29.30426       \n",
       "5  Justicia  534  534    534     98.25468 28.52669       "
      ]
     },
     "metadata": {},
     "output_type": "display_data"
    }
   ],
   "source": [
    "airbnb_entire$MetrosCuadrados <- unlist(airbnb_entire$MetrosCuadrados)\n",
    "mean_size<-aggregate(. ~ Barrio, airbnb_entire[c(\"Barrio\",\"MetrosCuadrados\")], mean, na.rm=TRUE)\n",
    "mean_price_size_100<-merge(mean_price_100,mean_size,by=\"Barrio\")\n",
    "\n",
    "mean_price_size_100<-mean_price_size_100[order(mean_price_size_100$Precio,decreasing = T),]\n",
    "head(mean_price_size_100,5)"
   ]
  },
  {
   "cell_type": "markdown",
   "metadata": {},
   "source": [
    "Dibuja el diagrama de densidad de distribución de los diferentes tamaños de apartamentos. Serían 5 gráficas, una por cada barrio."
   ]
  },
  {
   "cell_type": "code",
   "execution_count": 134,
   "metadata": {},
   "outputs": [
    {
     "name": "stderr",
     "output_type": "stream",
     "text": [
      "Warning message:\n",
      "\"Removed 1645 rows containing non-finite values (stat_density).\""
     ]
    },
    {
     "data": {
      "image/png": "[encoded data removed]",
      "text/plain": [
       "plot without title"
      ]
     },
     "metadata": {},
     "output_type": "display_data"
    }
   ],
   "source": [
    "top_barrios<-subset(airbnb_entire,Barrio %in% barrios)\n",
    "ggplot(top_barrios,aes(x=MetrosCuadrados,color=Barrio))+geom_density()"
   ]
  },
  {
   "cell_type": "markdown",
   "metadata": {},
   "source": [
    "Esta claro que las medias de metros cuadrados de cada uno de estos 5 barrios parecen ser diferentes, pero ¿son estadísticamente diferentes?\n",
    "¿Que test habría que usar para comprobarlo?"
   ]
  },
  {
   "cell_type": "code",
   "execution_count": 135,
   "metadata": {},
   "outputs": [
    {
     "name": "stdout",
     "output_type": "stream",
     "text": [
      "[1] \"Precio medio tipo Sol  =  45.6169213833333\"\n",
      "[1] \" - Test shapiro pvalor =  8.6913775134728e-07\"\n",
      "[1] \"Precio medio tipo Justicia  =  28.5266858823529\"\n",
      "[1] \" - Test shapiro pvalor =  0.00064192630271212\"\n",
      "[1] \"Precio medio tipo Recoletos  =  26.663161\"\n",
      "[1] \" - Test shapiro pvalor =  0\"\n",
      "[1] \"Precio medio tipo Goya  =  51.6850356666667\"\n",
      "[1] \" - Test shapiro pvalor =  0.519924091564745\"\n",
      "[1] \"Precio medio tipo Trafalgar  =  29.3042605714286\"\n",
      "[1] \" - Test shapiro pvalor =  0.0127581397426826\"\n"
     ]
    },
    {
     "data": {
      "text/plain": [
       "\n",
       "\tKruskal-Wallis rank sum test\n",
       "\n",
       "data:  MetrosCuadrados by Barrio\n",
       "Kruskal-Wallis chi-squared = 1.882, df = 4, p-value = 0.7574\n"
      ]
     },
     "metadata": {},
     "output_type": "display_data"
    },
    {
     "data": {
      "text/html": [
       "'No hay evidencias suficientes que determinen que en cada uno de esos barrios el tamaño de los apartamentos es diferente El pvalor del test es muy alto. pvalor= 0.757443581555649'"
      ],
      "text/latex": [
       "'No hay evidencias suficientes que determinen que en cada uno de esos barrios el tamaño de los apartamentos es diferente El pvalor del test es muy alto. pvalor= 0.757443581555649'"
      ],
      "text/markdown": [
       "'No hay evidencias suficientes que determinen que en cada uno de esos barrios el tamaño de los apartamentos es diferente El pvalor del test es muy alto. pvalor= 0.757443581555649'"
      ],
      "text/plain": [
       "[1] \"No hay evidencias suficientes que determinen que en cada uno de esos barrios el tamaño de los apartamentos es diferente El pvalor del test es muy alto. pvalor= 0.757443581555649\""
      ]
     },
     "metadata": {},
     "output_type": "display_data"
    }
   ],
   "source": [
    "for (barrio in unique(top_barrios$Barrio)){\n",
    "    df<-top_barrios[which(top_barrios$Barrio==as.character(barrio)),]\n",
    "    print(paste(\"Precio medio tipo\",barrio,\" = \",mean(df$MetrosCuadrados,na.rm=T)))\n",
    "    if (nrow(df)>5000){\n",
    "        df<-df[1:5000,]\n",
    "    }\n",
    "    sp<-shapiro.test(df$MetrosCuadrados)\n",
    "    print(paste(\" - Test shapiro pvalor = \",sp$p.value))\n",
    "}\n",
    "\n",
    "kt<-kruskal.test(MetrosCuadrados~Barrio,top_barrios)\n",
    "kt\n",
    "paste(\"No hay evidencias suficientes que determinen que en cada uno de esos barrios el tamaño de los apartamentos es diferente\",\n",
    "     \"El pvalor del test es muy alto. pvalor=\",kt$p.value)"
   ]
  },
  {
   "cell_type": "markdown",
   "metadata": {},
   "source": [
    "Para únicamente los pisos de alquiler en el barrio de Sol:\n",
    "\n",
    "``barrio_sol<-subset(airbnb_entire,Barrio==\"Sol\")``\n",
    "\n",
    "Calcular un modelo lineal que combine alguna de estas variables:\n",
    "* NumBanyos\n",
    "* NumDormitorios\n",
    "* MaxOcupantes\n",
    "* MetrosCuadrados"
   ]
  },
  {
   "cell_type": "code",
   "execution_count": 136,
   "metadata": {},
   "outputs": [
    {
     "data": {
      "text/html": [
       "701"
      ],
      "text/latex": [
       "701"
      ],
      "text/markdown": [
       "701"
      ],
      "text/plain": [
       "[1] 701"
      ]
     },
     "metadata": {},
     "output_type": "display_data"
    }
   ],
   "source": [
    "barrio_sol<-subset(airbnb_entire,Barrio==\"Sol\")\n",
    "nrow(barrio_sol)"
   ]
  },
  {
   "cell_type": "markdown",
   "metadata": {},
   "source": [
    "Primero calculamos la correlación para ver como se relacionan estas variables entre sí."
   ]
  },
  {
   "cell_type": "code",
   "execution_count": 137,
   "metadata": {},
   "outputs": [
    {
     "data": {
      "text/html": [
       "<table>\n",
       "<thead><tr><th></th><th scope=col>NumBanyos</th><th scope=col>NumDormitorios</th><th scope=col>MaxOcupantes</th><th scope=col>MetrosCuadrados</th></tr></thead>\n",
       "<tbody>\n",
       "\t<tr><th scope=row>NumBanyos</th><td>1.0000000</td><td>0.6761906</td><td>0.6578162</td><td>0.4820549</td></tr>\n",
       "\t<tr><th scope=row>NumDormitorios</th><td>0.6761906</td><td>1.0000000</td><td>0.7594598</td><td>0.5684521</td></tr>\n",
       "\t<tr><th scope=row>MaxOcupantes</th><td>0.6578162</td><td>0.7594598</td><td>1.0000000</td><td>0.4286233</td></tr>\n",
       "\t<tr><th scope=row>MetrosCuadrados</th><td>0.4820549</td><td>0.5684521</td><td>0.4286233</td><td>1.0000000</td></tr>\n",
       "</tbody>\n",
       "</table>\n"
      ],
      "text/latex": [
       "\\begin{tabular}{r|llll}\n",
       "  & NumBanyos & NumDormitorios & MaxOcupantes & MetrosCuadrados\\\\\n",
       "\\hline\n",
       "\tNumBanyos & 1.0000000 & 0.6761906 & 0.6578162 & 0.4820549\\\\\n",
       "\tNumDormitorios & 0.6761906 & 1.0000000 & 0.7594598 & 0.5684521\\\\\n",
       "\tMaxOcupantes & 0.6578162 & 0.7594598 & 1.0000000 & 0.4286233\\\\\n",
       "\tMetrosCuadrados & 0.4820549 & 0.5684521 & 0.4286233 & 1.0000000\\\\\n",
       "\\end{tabular}\n"
      ],
      "text/markdown": [
       "\n",
       "| <!--/--> | NumBanyos | NumDormitorios | MaxOcupantes | MetrosCuadrados |\n",
       "|---|---|---|---|---|\n",
       "| NumBanyos | 1.0000000 | 0.6761906 | 0.6578162 | 0.4820549 |\n",
       "| NumDormitorios | 0.6761906 | 1.0000000 | 0.7594598 | 0.5684521 |\n",
       "| MaxOcupantes | 0.6578162 | 0.7594598 | 1.0000000 | 0.4286233 |\n",
       "| MetrosCuadrados | 0.4820549 | 0.5684521 | 0.4286233 | 1.0000000 |\n",
       "\n"
      ],
      "text/plain": [
       "                NumBanyos NumDormitorios MaxOcupantes MetrosCuadrados\n",
       "NumBanyos       1.0000000 0.6761906      0.6578162    0.4820549      \n",
       "NumDormitorios  0.6761906 1.0000000      0.7594598    0.5684521      \n",
       "MaxOcupantes    0.6578162 0.7594598      1.0000000    0.4286233      \n",
       "MetrosCuadrados 0.4820549 0.5684521      0.4286233    1.0000000      "
      ]
     },
     "metadata": {},
     "output_type": "display_data"
    }
   ],
   "source": [
    "cor(barrio_sol[,c(\"NumBanyos\",\"NumDormitorios\",\"MaxOcupantes\",\"MetrosCuadrados\")],use=\"pairwise.complete.obs\")"
   ]
  },
  {
   "cell_type": "markdown",
   "metadata": {},
   "source": [
    "Se observa que la correlación entre el número de dormitorios y los metros cuadrados es sorprendentemente baja.\n",
    "¿Son de fiar esos números?\n",
    "\n",
    "Mediante un histograma o curvas de densidad podemos descartar números que notienen sentido en el dataframe barrio_sol,\n",
    "para tener una matriz de correlación que tenga mayor sentido.\n"
   ]
  },
  {
   "cell_type": "code",
   "execution_count": 138,
   "metadata": {},
   "outputs": [
    {
     "name": "stderr",
     "output_type": "stream",
     "text": [
      "Warning message:\n",
      "\"Removed 641 rows containing non-finite values (stat_density).\""
     ]
    },
    {
     "data": {
      "image/png": "[encoded data removed]",
      "text/plain": [
       "plot without title"
      ]
     },
     "metadata": {},
     "output_type": "display_data"
    }
   ],
   "source": [
    "ggplot(barrio_sol,aes(x=MetrosCuadrados))+geom_density(bw=3)"
   ]
  },
  {
   "cell_type": "markdown",
   "metadata": {},
   "source": [
    "Una vez que hayamos filtrado los datos correspondientes calcular el valor o la combinación de valores que mejor nos permite obtener el precio de un inmueble."
   ]
  },
  {
   "cell_type": "code",
   "execution_count": 139,
   "metadata": {},
   "outputs": [
    {
     "data": {
      "text/plain": [
       "\n",
       "Call:\n",
       "lm(formula = Precio ~ NumBanyos + NumDormitorios + MetrosCuadrados + \n",
       "    MaxOcupantes, data = barrio_sol)\n",
       "\n",
       "Residuals:\n",
       "    Min      1Q  Median      3Q     Max \n",
       "-67.852 -15.599  -4.021  10.042 108.406 \n",
       "\n",
       "Coefficients:\n",
       "                Estimate Std. Error t value Pr(>|t|)    \n",
       "(Intercept)     42.28673   10.25650   4.123 0.000127 ***\n",
       "NumBanyos       15.70888   10.15721   1.547 0.127701    \n",
       "NumDormitorios  22.75344    6.55828   3.469 0.001022 ** \n",
       "MetrosCuadrados  0.29900    0.09997   2.991 0.004155 ** \n",
       "MaxOcupantes    -2.85045    2.60279  -1.095 0.278223    \n",
       "---\n",
       "Signif. codes:  0 '***' 0.001 '**' 0.01 '*' 0.05 '.' 0.1 ' ' 1\n",
       "\n",
       "Residual standard error: 32.42 on 55 degrees of freedom\n",
       "  (641 observations deleted due to missingness)\n",
       "Multiple R-squared:  0.6108,\tAdjusted R-squared:  0.5825 \n",
       "F-statistic: 21.58 on 4 and 55 DF,  p-value: 9.534e-11\n"
      ]
     },
     "metadata": {},
     "output_type": "display_data"
    }
   ],
   "source": [
    "model<-lm(barrio_sol,formula=Precio~NumBanyos+NumDormitorios+MetrosCuadrados+MaxOcupantes)\n",
    "summary(model)"
   ]
  },
  {
   "cell_type": "markdown",
   "metadata": {},
   "source": [
    "¿Que variable es más fiable para conocer el precio de un inmueble, el número de habitaciones o los metros cuadrados?"
   ]
  },
  {
   "cell_type": "code",
   "execution_count": 140,
   "metadata": {},
   "outputs": [],
   "source": [
    "# El número de habitaciones"
   ]
  },
  {
   "cell_type": "markdown",
   "metadata": {},
   "source": [
    "Responde con su correspondiente margen de error del 95%, ¿cuantos euros incrementa el precio del alquiler por cada metro cuadrado extra del piso?"
   ]
  },
  {
   "cell_type": "code",
   "execution_count": 141,
   "metadata": {},
   "outputs": [
    {
     "data": {
      "text/html": [
       "<dl class=dl-horizontal>\n",
       "\t<dt>2.5 %</dt>\n",
       "\t\t<dd>0.419085800533533</dd>\n",
       "\t<dt>97.5 %</dt>\n",
       "\t\t<dd>0.808261191368514</dd>\n",
       "</dl>\n"
      ],
      "text/latex": [
       "\\begin{description*}\n",
       "\\item[2.5 \\textbackslash{}\\%] 0.419085800533533\n",
       "\\item[97.5 \\textbackslash{}\\%] 0.808261191368514\n",
       "\\end{description*}\n"
      ],
      "text/markdown": [
       "2.5 %\n",
       ":   0.41908580053353397.5 %\n",
       ":   0.808261191368514\n",
       "\n"
      ],
      "text/plain": [
       "    2.5 %    97.5 % \n",
       "0.4190858 0.8082612 "
      ]
     },
     "metadata": {},
     "output_type": "display_data"
    }
   ],
   "source": [
    "model<-lm(barrio_sol,formula=Precio~MetrosCuadrados)\n",
    "confint(model)[\"MetrosCuadrados\",]"
   ]
  },
  {
   "cell_type": "markdown",
   "metadata": {},
   "source": [
    "Responde con su correspondiente margen de error del 95%, ¿cuantos euros incrementa el precio del alquiler por cada habitación?"
   ]
  },
  {
   "cell_type": "code",
   "execution_count": 142,
   "metadata": {},
   "outputs": [
    {
     "data": {
      "text/html": [
       "<dl class=dl-horizontal>\n",
       "\t<dt>2.5 %</dt>\n",
       "\t\t<dd>30.5000398658094</dd>\n",
       "\t<dt>97.5 %</dt>\n",
       "\t\t<dd>36.2280331958966</dd>\n",
       "</dl>\n"
      ],
      "text/latex": [
       "\\begin{description*}\n",
       "\\item[2.5 \\textbackslash{}\\%] 30.5000398658094\n",
       "\\item[97.5 \\textbackslash{}\\%] 36.2280331958966\n",
       "\\end{description*}\n"
      ],
      "text/markdown": [
       "2.5 %\n",
       ":   30.500039865809497.5 %\n",
       ":   36.2280331958966\n",
       "\n"
      ],
      "text/plain": [
       "   2.5 %   97.5 % \n",
       "30.50004 36.22803 "
      ]
     },
     "metadata": {},
     "output_type": "display_data"
    }
   ],
   "source": [
    "model<-lm(barrio_sol,formula=Precio~NumDormitorios)\n",
    "confint(model)[\"NumDormitorios\",]"
   ]
  },
  {
   "cell_type": "markdown",
   "metadata": {},
   "source": [
    "¿Cual es la probabilidad de encontrar, en el barrio de Sol, un apartamento en alquiler con 3 dormitorios?\n",
    "¿Cual es el intervalo de confianza de esa probabilidad?"
   ]
  },
  {
   "cell_type": "code",
   "execution_count": 143,
   "metadata": {},
   "outputs": [
    {
     "name": "stdout",
     "output_type": "stream",
     "text": [
      "[1] \"La probabilidad es: 0.0784593437945792\"\n",
      "[1] \"El intervalo de confianza es:\"\n"
     ]
    },
    {
     "data": {
      "text/html": [
       "<ol class=list-inline>\n",
       "\t<li>0.0596505980500962</li>\n",
       "\t<li>0.100903307028694</li>\n",
       "</ol>\n"
      ],
      "text/latex": [
       "\\begin{enumerate*}\n",
       "\\item 0.0596505980500962\n",
       "\\item 0.100903307028694\n",
       "\\end{enumerate*}\n"
      ],
      "text/markdown": [
       "1. 0.0596505980500962\n",
       "2. 0.100903307028694\n",
       "\n",
       "\n"
      ],
      "text/plain": [
       "[1] 0.0596506 0.1009033\n",
       "attr(,\"conf.level\")\n",
       "[1] 0.95"
      ]
     },
     "metadata": {},
     "output_type": "display_data"
    }
   ],
   "source": [
    "# Cuantos anuncios con 3 dormitorios en el barrio de Sol:\n",
    "numApartamentos <-sum(barrio_sol$NumDormitorios==3)\n",
    "# Total de anuncios en Sol:\n",
    "total<-nrow(barrio_sol)\n",
    "print(paste(\"La probabilidad es:\",numApartamentos/total))\n",
    "print(\"El intervalo de confianza es:\")\n",
    "binom.test(num3dormitorios,numTotal)$conf"
   ]
  },
  {
   "cell_type": "markdown",
   "metadata": {},
   "source": []
  },
  {
   "cell_type": "markdown",
   "metadata": {},
   "source": []
  },
  {
   "cell_type": "code",
   "execution_count": null,
   "metadata": {},
   "outputs": [],
   "source": []
  },
  {
   "cell_type": "code",
   "execution_count": null,
   "metadata": {},
   "outputs": [],
   "source": []
  },
  {
   "cell_type": "code",
   "execution_count": null,
   "metadata": {},
   "outputs": [],
   "source": []
  },
  {
   "cell_type": "code",
   "execution_count": null,
   "metadata": {},
   "outputs": [],
   "source": []
  }
 ],
 "metadata": {
  "kernelspec": {
   "display_name": "R",
   "language": "R",
   "name": "ir"
  },
  "language_info": {
   "codemirror_mode": "r",
   "file_extension": ".r",
   "mimetype": "text/x-r-source",
   "name": "R",
   "pygments_lexer": "r",
   "version": "3.6.1"
  }
 },
 "nbformat": 4,
 "nbformat_minor": 2
}
